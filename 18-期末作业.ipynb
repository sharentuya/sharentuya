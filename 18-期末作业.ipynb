{
 "cells": [
  {
   "cell_type": "code",
   "execution_count": 1,
   "metadata": {},
   "outputs": [],
   "source": [
    "import mytools\n",
    "import pandas as pd "
   ]
  },
  {
   "cell_type": "code",
   "execution_count": 2,
   "metadata": {},
   "outputs": [],
   "source": [
    "# 读取数据表\n",
    "数据表 = mytools.读取SPSS数据文件(R'data\\demo.sav')"
   ]
  },
  {
   "cell_type": "code",
   "execution_count": 3,
   "metadata": {},
   "outputs": [
    {
     "data": {
      "text/plain": [
       "Index(['序号', '@1、您的性别：', '@2、您的年龄：', '@3、您的婚姻状况：', '@4、您的受教育程度是：',\n",
       "       '@5、您的政治面貌：', '@7、您的信仰是：', '@8、您的职业是：', '@9、您的月收入大约是多少？', '@10、1您家里有',\n",
       "       '@10、2口人，是', '@10、3代人，家里有', '@10、4位老人，家里有', '@10、5个小孩，外出打工的人有___人。',\n",
       "       '@11、您平常是否通过电脑上网？', '@12、您平常是否通过手机上网？', '@13、您平时一周有几天通过电脑上网？',\n",
       "       '@14、您平时一周有几天通过手机上网？', '@15、1您每天通过手机上网的时间大概为', '@15、2分钟，您每天通过电脑上网的时间为',\n",
       "       '@15、3分钟，您每个月的手机话费为', '@15、4元，您家的宽带费为___元。',\n",
       "       '@16、互联网使用行为（问卷17题至26题）—17、您', '@16、18、您认为您在上网时使用搜索引擎（百度',\n",
       "       '@16、19、您经常会通过互联网（辣椒直播、下厨', '@16、20、您认为您玩手机网络游戏（斗地主、斗',\n",
       "       '@16、21、您经常会通过互联网观看小说么？', '@16、22、您经常会通过互联网观看视频（快手、',\n",
       "       '@16、23、您认为您通过即时通讯（微信、QQ）与他', '@16、24、您经常会通过社交网络（微博、陌陌、',\n",
       "       '@16、25、您认为您在互联网（淘宝、拼多多、京', '@16、26、您经常使用移动支付（支付宝、微信支',\n",
       "       'Q17_1_我目前的生活接近我理想的状态', 'Q17_2_我的生活条件在各方面都很不错。', 'Q17_3_对我目前的生活，我很满意。',\n",
       "       'Q17_4_到目前为止，我已经得到了我想要的东西', 'Q17_5_如果我能再活一次我没有什么要改变',\n",
       "       '@18、请表述您最近一周的情感状况—6.爱', '@18、7.愉悦', '@18、8.自豪', '@18、9.愤怒',\n",
       "       '@18、10.忧虑', '@18、11.悲哀', '@19、第三部分—1.我能够获得足够有用的媒介信',\n",
       "       '@19、2.我能够不断更新自己的信息获取技能。', '@19、3.我具有较强的信息获取意识。',\n",
       "       '@19、4.我能够熟练使用软件工具进行信息检索。', '@19、5.我能够通过寻找佐证资料判断信息的可信',\n",
       "       '@19、6.能够通过标题、内容等判断信息的可信度', '@19、7.我能够判断当前信息是在陈述事实还是表',\n",
       "       '@19、8.我能够评估媒介信息内容对他人或社会可', '@19、9.我能够通过信息发布机构的权威性判断信',\n",
       "       '@19、10.我通过网络微信微博QQ等分享社会时事新', '@19、11.我通过网络微信微博QQ等参与投票、网络',\n",
       "       '@19、12.我通过网络参与社会公共事件讨论。', '@19、13.我通过网络微信微博QQ等参与社会实践。',\n",
       "       '@19、14.我通过网络微信微博QQ等与他人交流沟通', '@19、15.我通过网络微信微博QQ等分享个人动态信',\n",
       "       '@19、16.我通过网络微信微博QQ等表达个人观点发', '@19、17.我通过网络网络微信微博QQ等与他人协作',\n",
       "       '@19、18.我能够对音视频素材进行转换格式、压缩', '@19、19.我能够对图像素材进行格式转换、压缩与',\n",
       "       '@19、20.我能够对多媒体素材进行合成与发布。', 'Q20_1_我对目前的工作相当满意。',\n",
       "       'Q20_2_大多数时候我对工作充满热情。', 'Q20_3_我不会感到每天的工作似乎永远不会结束。',\n",
       "       'Q20_4_我在工作中找到了真正的乐趣', 'Q20_5_我认为我的工作相当愉快。', 'Q21_1_我感到我是一个有价值的人',\n",
       "       'Q21_2_我感到我有许多好的品质。', 'Q21_3_我倾向于觉得自己是一个失败者', 'Q21_4_我能像大多数人一样把事情做好',\n",
       "       'Q21_5_我感到自己值得自豪的地方不多。', 'Q21_6_我对自己持肯定的态度。', 'Q21_7_总的来说，我对自己是满意的。',\n",
       "       'Q21_8_我希望我能为自己赢得更多尊重。', 'Q21_9_我时常感到自已毫无用处', 'Q21_10_我时常认为自己一无是处。',\n",
       "       '@25、调研日期（根据调研日期填写3、4、5或其他', '@27、调研地点', '@28、问卷编号',\n",
       "       '@30、问卷录入过程中其他需要说明的问题（若没', '年龄段', '每周上网时长', '生活满意度', '生活满意度区间', '工作满意度',\n",
       "       '工作满意度区间', '自尊'],\n",
       "      dtype='object')"
      ]
     },
     "execution_count": 3,
     "metadata": {},
     "output_type": "execute_result"
    }
   ],
   "source": [
    "数据表.columns"
   ]
  },
  {
   "cell_type": "code",
   "execution_count": 4,
   "metadata": {},
   "outputs": [],
   "source": [
    "数据表.rename(columns={\n",
    "    '@2、您的年龄：': '年龄',\n",
    "    '@3、您的婚姻状况：': '婚姻状况',\n",
    "    '@4、您的受教育程度是：': '受教育程度',\n",
    "    '@9、您的月收入大约是多少？': '月收入',\n",
    "    '@10、1您家里有': '家庭规模',\n",
    "    '@10、2口人，是': '代际',\n",
    "}, inplace=True)"
   ]
  },
  {
   "cell_type": "code",
   "execution_count": 5,
   "metadata": {},
   "outputs": [
    {
     "data": {
      "text/plain": [
       "43.67741935483871"
      ]
     },
     "execution_count": 5,
     "metadata": {},
     "output_type": "execute_result"
    }
   ],
   "source": [
    "# 数据表['家庭规模'].mean()\n",
    "数据表['年龄'].mean()"
   ]
  },
  {
   "cell_type": "code",
   "execution_count": 6,
   "metadata": {},
   "outputs": [
    {
     "data": {
      "text/plain": [
       "23.71276595744681"
      ]
     },
     "execution_count": 6,
     "metadata": {},
     "output_type": "execute_result"
    }
   ],
   "source": [
    "数据表['工作满意度'].mean()"
   ]
  },
  {
   "cell_type": "code",
   "execution_count": 7,
   "metadata": {},
   "outputs": [
    {
     "data": {
      "text/plain": [
       "25.606382978723403"
      ]
     },
     "execution_count": 7,
     "metadata": {},
     "output_type": "execute_result"
    }
   ],
   "source": [
    "数据表['生活满意度'].mean()"
   ]
  },
  {
   "cell_type": "code",
   "execution_count": 8,
   "metadata": {},
   "outputs": [
    {
     "data": {
      "text/plain": [
       "代际\n",
       "3    59\n",
       "2    18\n",
       "4     8\n",
       "1     2\n",
       "5     1\n",
       "Name: count, dtype: int64"
      ]
     },
     "execution_count": 8,
     "metadata": {},
     "output_type": "execute_result"
    }
   ],
   "source": [
    "数据表['代际'].replace({'(空)':None}, inplace=True)\n",
    "数据表['代际'].value_counts()"
   ]
  },
  {
   "cell_type": "code",
   "execution_count": 9,
   "metadata": {},
   "outputs": [],
   "source": [
    "数据表['年龄'].fillna(43, inplace=True)\n",
    "数据表['婚姻状况'].fillna('已婚', inplace=True)\n",
    "数据表['月收入'].fillna('三千元以下', inplace=True)\n",
    "数据表['工作满意度'].fillna(3, inplace=True)\n",
    "数据表['生活满意度'].fillna(3, inplace=True)"
   ]
  },
  {
   "cell_type": "code",
   "execution_count": 10,
   "metadata": {},
   "outputs": [
    {
     "name": "stdout",
     "output_type": "stream",
     "text": [
      "使用标准差判断的异常值为： Empty DataFrame\n",
      "Columns: [序号, @1、您的性别：, 年龄, 婚姻状况, 受教育程度, @5、您的政治面貌：, @7、您的信仰是：, @8、您的职业是：, 月收入, 家庭规模, 代际, @10、3代人，家里有, @10、4位老人，家里有, @10、5个小孩，外出打工的人有___人。, @11、您平常是否通过电脑上网？, @12、您平常是否通过手机上网？, @13、您平时一周有几天通过电脑上网？, @14、您平时一周有几天通过手机上网？, @15、1您每天通过手机上网的时间大概为, @15、2分钟，您每天通过电脑上网的时间为, @15、3分钟，您每个月的手机话费为, @15、4元，您家的宽带费为___元。, @16、互联网使用行为（问卷17题至26题）—17、您, @16、18、您认为您在上网时使用搜索引擎（百度, @16、19、您经常会通过互联网（辣椒直播、下厨, @16、20、您认为您玩手机网络游戏（斗地主、斗, @16、21、您经常会通过互联网观看小说么？, @16、22、您经常会通过互联网观看视频（快手、, @16、23、您认为您通过即时通讯（微信、QQ）与他, @16、24、您经常会通过社交网络（微博、陌陌、, @16、25、您认为您在互联网（淘宝、拼多多、京, @16、26、您经常使用移动支付（支付宝、微信支, Q17_1_我目前的生活接近我理想的状态, Q17_2_我的生活条件在各方面都很不错。, Q17_3_对我目前的生活，我很满意。, Q17_4_到目前为止，我已经得到了我想要的东西, Q17_5_如果我能再活一次我没有什么要改变, @18、请表述您最近一周的情感状况—6.爱, @18、7.愉悦, @18、8.自豪, @18、9.愤怒, @18、10.忧虑, @18、11.悲哀, @19、第三部分—1.我能够获得足够有用的媒介信, @19、2.我能够不断更新自己的信息获取技能。, @19、3.我具有较强的信息获取意识。, @19、4.我能够熟练使用软件工具进行信息检索。, @19、5.我能够通过寻找佐证资料判断信息的可信, @19、6.能够通过标题、内容等判断信息的可信度, @19、7.我能够判断当前信息是在陈述事实还是表, @19、8.我能够评估媒介信息内容对他人或社会可, @19、9.我能够通过信息发布机构的权威性判断信, @19、10.我通过网络微信微博QQ等分享社会时事新, @19、11.我通过网络微信微博QQ等参与投票、网络, @19、12.我通过网络参与社会公共事件讨论。, @19、13.我通过网络微信微博QQ等参与社会实践。, @19、14.我通过网络微信微博QQ等与他人交流沟通, @19、15.我通过网络微信微博QQ等分享个人动态信, @19、16.我通过网络微信微博QQ等表达个人观点发, @19、17.我通过网络网络微信微博QQ等与他人协作, @19、18.我能够对音视频素材进行转换格式、压缩, @19、19.我能够对图像素材进行格式转换、压缩与, @19、20.我能够对多媒体素材进行合成与发布。, Q20_1_我对目前的工作相当满意。, Q20_2_大多数时候我对工作充满热情。, Q20_3_我不会感到每天的工作似乎永远不会结束。, Q20_4_我在工作中找到了真正的乐趣, Q20_5_我认为我的工作相当愉快。, Q21_1_我感到我是一个有价值的人, Q21_2_我感到我有许多好的品质。, Q21_3_我倾向于觉得自己是一个失败者, Q21_4_我能像大多数人一样把事情做好, Q21_5_我感到自己值得自豪的地方不多。, Q21_6_我对自己持肯定的态度。, Q21_7_总的来说，我对自己是满意的。, Q21_8_我希望我能为自己赢得更多尊重。, Q21_9_我时常感到自已毫无用处, Q21_10_我时常认为自己一无是处。, @25、调研日期（根据调研日期填写3、4、5或其他, @27、调研地点, @28、问卷编号, @30、问卷录入过程中其他需要说明的问题（若没, 年龄段, 每周上网时长, 生活满意度, 生活满意度区间, 工作满意度, 工作满意度区间, 自尊]\n",
      "Index: []\n",
      "\n",
      "[0 rows x 89 columns]\n"
     ]
    }
   ],
   "source": [
    "# 计算均值和标准差\n",
    "mean = 数据表['年龄'].mean()\n",
    "std = 数据表['年龄'].std()\n",
    "condition1 = (数据表['年龄'] < mean - 3 * std) | (数据表['年龄'] > mean + 3 * std)\n",
    "# 识别异常值\n",
    "outliers1 = 数据表[condition1]\n",
    "print('使用标准差判断的异常值为：',outliers1)"
   ]
  },
  {
   "cell_type": "code",
   "execution_count": 11,
   "metadata": {},
   "outputs": [
    {
     "name": "stdout",
     "output_type": "stream",
     "text": [
      "使用标准差判断的异常值为：       序号  @1、您的性别：    年龄 婚姻状况 受教育程度 @5、您的政治面貌： @7、您的信仰是： @8、您的职业是：  月收入  家庭规模  \\\n",
      "8   73.0       1.0  12.0   未婚    小学         群众        佛教        学生  无收入   8.0   \n",
      "9   19.0       1.0  18.0   未婚    初中         群众        佛教        其它  无收入   7.0   \n",
      "11  24.0       2.0  19.0   未婚    大学       共青团员        佛教        学生  无收入  10.0   \n",
      "12  74.0       1.0  16.0   未婚    高中         群众        佛教        学生  无收入   5.0   \n",
      "\n",
      "    ... @27、调研地点 @28、问卷编号     @30、问卷录入过程中其他需要说明的问题（若没  年龄段 每周上网时长 生活满意度  \\\n",
      "8   ...      麻乍村     MZ18        该受访者为小学生，因此不涉及工作满意度。  1.0    0.0  30.0   \n",
      "9   ...      唐尕村     TG19    该受访者无工作，因此“工作满意度”部分并未填写。  1.0   28.0  17.0   \n",
      "11  ...      唐尕村     TG24  该受访者为学生，因此第四部分“工作满意度”并未填写。  1.0    7.0  29.0   \n",
      "12  ...      麻乍村     MZ19       该受访者为学生，因此不涉及工作满意度问题。  1.0    7.0  18.0   \n",
      "\n",
      "   生活满意度区间 工作满意度  工作满意度区间    自尊  \n",
      "8       满意 -10.0     极不满意  30.0  \n",
      "9    基本不满意 -10.0     极不满意  26.0  \n",
      "11      满意 -10.0     极不满意  29.0  \n",
      "12   基本不满意 -10.0     极不满意  30.0  \n",
      "\n",
      "[4 rows x 89 columns]\n"
     ]
    }
   ],
   "source": [
    "mytools.使用标准差判断数值变量异常值(数据表,'工作满意度')"
   ]
  },
  {
   "cell_type": "code",
   "execution_count": 12,
   "metadata": {},
   "outputs": [
    {
     "data": {
      "text/plain": [
       "dtype('float64')"
      ]
     },
     "execution_count": 12,
     "metadata": {},
     "output_type": "execute_result"
    }
   ],
   "source": [
    "数据表['年龄'].dtypes"
   ]
  },
  {
   "cell_type": "code",
   "execution_count": 13,
   "metadata": {},
   "outputs": [
    {
     "data": {
      "text/plain": [
       "序号           float64\n",
       "@1、您的性别：     float64\n",
       "年龄             int32\n",
       "婚姻状况        category\n",
       "受教育程度       category\n",
       "              ...   \n",
       "生活满意度        float64\n",
       "生活满意度区间     category\n",
       "工作满意度        float64\n",
       "工作满意度区间     category\n",
       "自尊           float64\n",
       "Length: 89, dtype: object"
      ]
     },
     "execution_count": 13,
     "metadata": {},
     "output_type": "execute_result"
    }
   ],
   "source": [
    "数据表.astype({\"年龄\": \"int\"}).dtypes"
   ]
  },
  {
   "cell_type": "code",
   "execution_count": 14,
   "metadata": {},
   "outputs": [
    {
     "data": {
      "text/plain": [
       "0    NaN\n",
       "1    NaN\n",
       "2    NaN\n",
       "3    NaN\n",
       "4    NaN\n",
       "      ..\n",
       "89   NaN\n",
       "90   NaN\n",
       "91   NaN\n",
       "92   NaN\n",
       "93   NaN\n",
       "Name: 年龄, Length: 94, dtype: float64"
      ]
     },
     "execution_count": 14,
     "metadata": {},
     "output_type": "execute_result"
    }
   ],
   "source": [
    "数据表['年龄'].map({1:1,2:2,3:3,4:4,5:5})"
   ]
  },
  {
   "cell_type": "code",
   "execution_count": 15,
   "metadata": {},
   "outputs": [
    {
     "data": {
      "text/plain": [
       "序号           float64\n",
       "@1、您的性别：     float64\n",
       "年龄             int32\n",
       "婚姻状况        category\n",
       "受教育程度       category\n",
       "              ...   \n",
       "生活满意度        float64\n",
       "生活满意度区间     category\n",
       "工作满意度        float64\n",
       "工作满意度区间     category\n",
       "自尊           float64\n",
       "Length: 89, dtype: object"
      ]
     },
     "execution_count": 15,
     "metadata": {},
     "output_type": "execute_result"
    }
   ],
   "source": [
    "# 变量类型设置\n",
    "数据表['年龄'].dtypes\n",
    "数据表.astype({'年龄':\"int\"}).dtypes"
   ]
  },
  {
   "cell_type": "code",
   "execution_count": 16,
   "metadata": {},
   "outputs": [],
   "source": [
    "# 生成新的变量\n",
    "数据表['信息判断能力'] = 数据表['@19、5.我能够通过寻找佐证资料判断信息的可信']+数据表['@19、6.能够通过标题、内容等判断信息的可信度']+数据表['@19、7.我能够判断当前信息是在陈述事实还是表']+数据表['@19、8.我能够评估媒介信息内容对他人或社会可']+数据表['@19、9.我能够通过信息发布机构的权威性判断信']"
   ]
  },
  {
   "cell_type": "code",
   "execution_count": 17,
   "metadata": {},
   "outputs": [
    {
     "data": {
      "application/vnd.plotly.v1+json": {
       "config": {
        "plotlyServerURL": "https://plot.ly"
       },
       "data": [
        {
         "alignmentgroup": "True",
         "hovertemplate": "受教育程度=%{x}<br>数量=%{y}<extra></extra>",
         "legendgroup": "",
         "marker": {
          "color": "#636efa",
          "pattern": {
           "shape": ""
          }
         },
         "name": "",
         "offsetgroup": "",
         "orientation": "v",
         "showlegend": false,
         "textposition": "auto",
         "type": "bar",
         "x": [
          "小学",
          "未上过学",
          "初中",
          "高中",
          "大学",
          "研究生及以上"
         ],
         "xaxis": "x",
         "y": [
          51,
          31,
          7,
          3,
          2,
          0
         ],
         "yaxis": "y"
        }
       ],
       "layout": {
        "barmode": "relative",
        "legend": {
         "tracegroupgap": 0
        },
        "margin": {
         "t": 60
        },
        "template": {
         "data": {
          "bar": [
           {
            "error_x": {
             "color": "#2a3f5f"
            },
            "error_y": {
             "color": "#2a3f5f"
            },
            "marker": {
             "line": {
              "color": "#E5ECF6",
              "width": 0.5
             },
             "pattern": {
              "fillmode": "overlay",
              "size": 10,
              "solidity": 0.2
             }
            },
            "type": "bar"
           }
          ],
          "barpolar": [
           {
            "marker": {
             "line": {
              "color": "#E5ECF6",
              "width": 0.5
             },
             "pattern": {
              "fillmode": "overlay",
              "size": 10,
              "solidity": 0.2
             }
            },
            "type": "barpolar"
           }
          ],
          "carpet": [
           {
            "aaxis": {
             "endlinecolor": "#2a3f5f",
             "gridcolor": "white",
             "linecolor": "white",
             "minorgridcolor": "white",
             "startlinecolor": "#2a3f5f"
            },
            "baxis": {
             "endlinecolor": "#2a3f5f",
             "gridcolor": "white",
             "linecolor": "white",
             "minorgridcolor": "white",
             "startlinecolor": "#2a3f5f"
            },
            "type": "carpet"
           }
          ],
          "choropleth": [
           {
            "colorbar": {
             "outlinewidth": 0,
             "ticks": ""
            },
            "type": "choropleth"
           }
          ],
          "contour": [
           {
            "colorbar": {
             "outlinewidth": 0,
             "ticks": ""
            },
            "colorscale": [
             [
              0,
              "#0d0887"
             ],
             [
              0.1111111111111111,
              "#46039f"
             ],
             [
              0.2222222222222222,
              "#7201a8"
             ],
             [
              0.3333333333333333,
              "#9c179e"
             ],
             [
              0.4444444444444444,
              "#bd3786"
             ],
             [
              0.5555555555555556,
              "#d8576b"
             ],
             [
              0.6666666666666666,
              "#ed7953"
             ],
             [
              0.7777777777777778,
              "#fb9f3a"
             ],
             [
              0.8888888888888888,
              "#fdca26"
             ],
             [
              1,
              "#f0f921"
             ]
            ],
            "type": "contour"
           }
          ],
          "contourcarpet": [
           {
            "colorbar": {
             "outlinewidth": 0,
             "ticks": ""
            },
            "type": "contourcarpet"
           }
          ],
          "heatmap": [
           {
            "colorbar": {
             "outlinewidth": 0,
             "ticks": ""
            },
            "colorscale": [
             [
              0,
              "#0d0887"
             ],
             [
              0.1111111111111111,
              "#46039f"
             ],
             [
              0.2222222222222222,
              "#7201a8"
             ],
             [
              0.3333333333333333,
              "#9c179e"
             ],
             [
              0.4444444444444444,
              "#bd3786"
             ],
             [
              0.5555555555555556,
              "#d8576b"
             ],
             [
              0.6666666666666666,
              "#ed7953"
             ],
             [
              0.7777777777777778,
              "#fb9f3a"
             ],
             [
              0.8888888888888888,
              "#fdca26"
             ],
             [
              1,
              "#f0f921"
             ]
            ],
            "type": "heatmap"
           }
          ],
          "heatmapgl": [
           {
            "colorbar": {
             "outlinewidth": 0,
             "ticks": ""
            },
            "colorscale": [
             [
              0,
              "#0d0887"
             ],
             [
              0.1111111111111111,
              "#46039f"
             ],
             [
              0.2222222222222222,
              "#7201a8"
             ],
             [
              0.3333333333333333,
              "#9c179e"
             ],
             [
              0.4444444444444444,
              "#bd3786"
             ],
             [
              0.5555555555555556,
              "#d8576b"
             ],
             [
              0.6666666666666666,
              "#ed7953"
             ],
             [
              0.7777777777777778,
              "#fb9f3a"
             ],
             [
              0.8888888888888888,
              "#fdca26"
             ],
             [
              1,
              "#f0f921"
             ]
            ],
            "type": "heatmapgl"
           }
          ],
          "histogram": [
           {
            "marker": {
             "pattern": {
              "fillmode": "overlay",
              "size": 10,
              "solidity": 0.2
             }
            },
            "type": "histogram"
           }
          ],
          "histogram2d": [
           {
            "colorbar": {
             "outlinewidth": 0,
             "ticks": ""
            },
            "colorscale": [
             [
              0,
              "#0d0887"
             ],
             [
              0.1111111111111111,
              "#46039f"
             ],
             [
              0.2222222222222222,
              "#7201a8"
             ],
             [
              0.3333333333333333,
              "#9c179e"
             ],
             [
              0.4444444444444444,
              "#bd3786"
             ],
             [
              0.5555555555555556,
              "#d8576b"
             ],
             [
              0.6666666666666666,
              "#ed7953"
             ],
             [
              0.7777777777777778,
              "#fb9f3a"
             ],
             [
              0.8888888888888888,
              "#fdca26"
             ],
             [
              1,
              "#f0f921"
             ]
            ],
            "type": "histogram2d"
           }
          ],
          "histogram2dcontour": [
           {
            "colorbar": {
             "outlinewidth": 0,
             "ticks": ""
            },
            "colorscale": [
             [
              0,
              "#0d0887"
             ],
             [
              0.1111111111111111,
              "#46039f"
             ],
             [
              0.2222222222222222,
              "#7201a8"
             ],
             [
              0.3333333333333333,
              "#9c179e"
             ],
             [
              0.4444444444444444,
              "#bd3786"
             ],
             [
              0.5555555555555556,
              "#d8576b"
             ],
             [
              0.6666666666666666,
              "#ed7953"
             ],
             [
              0.7777777777777778,
              "#fb9f3a"
             ],
             [
              0.8888888888888888,
              "#fdca26"
             ],
             [
              1,
              "#f0f921"
             ]
            ],
            "type": "histogram2dcontour"
           }
          ],
          "mesh3d": [
           {
            "colorbar": {
             "outlinewidth": 0,
             "ticks": ""
            },
            "type": "mesh3d"
           }
          ],
          "parcoords": [
           {
            "line": {
             "colorbar": {
              "outlinewidth": 0,
              "ticks": ""
             }
            },
            "type": "parcoords"
           }
          ],
          "pie": [
           {
            "automargin": true,
            "type": "pie"
           }
          ],
          "scatter": [
           {
            "fillpattern": {
             "fillmode": "overlay",
             "size": 10,
             "solidity": 0.2
            },
            "type": "scatter"
           }
          ],
          "scatter3d": [
           {
            "line": {
             "colorbar": {
              "outlinewidth": 0,
              "ticks": ""
             }
            },
            "marker": {
             "colorbar": {
              "outlinewidth": 0,
              "ticks": ""
             }
            },
            "type": "scatter3d"
           }
          ],
          "scattercarpet": [
           {
            "marker": {
             "colorbar": {
              "outlinewidth": 0,
              "ticks": ""
             }
            },
            "type": "scattercarpet"
           }
          ],
          "scattergeo": [
           {
            "marker": {
             "colorbar": {
              "outlinewidth": 0,
              "ticks": ""
             }
            },
            "type": "scattergeo"
           }
          ],
          "scattergl": [
           {
            "marker": {
             "colorbar": {
              "outlinewidth": 0,
              "ticks": ""
             }
            },
            "type": "scattergl"
           }
          ],
          "scattermapbox": [
           {
            "marker": {
             "colorbar": {
              "outlinewidth": 0,
              "ticks": ""
             }
            },
            "type": "scattermapbox"
           }
          ],
          "scatterpolar": [
           {
            "marker": {
             "colorbar": {
              "outlinewidth": 0,
              "ticks": ""
             }
            },
            "type": "scatterpolar"
           }
          ],
          "scatterpolargl": [
           {
            "marker": {
             "colorbar": {
              "outlinewidth": 0,
              "ticks": ""
             }
            },
            "type": "scatterpolargl"
           }
          ],
          "scatterternary": [
           {
            "marker": {
             "colorbar": {
              "outlinewidth": 0,
              "ticks": ""
             }
            },
            "type": "scatterternary"
           }
          ],
          "surface": [
           {
            "colorbar": {
             "outlinewidth": 0,
             "ticks": ""
            },
            "colorscale": [
             [
              0,
              "#0d0887"
             ],
             [
              0.1111111111111111,
              "#46039f"
             ],
             [
              0.2222222222222222,
              "#7201a8"
             ],
             [
              0.3333333333333333,
              "#9c179e"
             ],
             [
              0.4444444444444444,
              "#bd3786"
             ],
             [
              0.5555555555555556,
              "#d8576b"
             ],
             [
              0.6666666666666666,
              "#ed7953"
             ],
             [
              0.7777777777777778,
              "#fb9f3a"
             ],
             [
              0.8888888888888888,
              "#fdca26"
             ],
             [
              1,
              "#f0f921"
             ]
            ],
            "type": "surface"
           }
          ],
          "table": [
           {
            "cells": {
             "fill": {
              "color": "#EBF0F8"
             },
             "line": {
              "color": "white"
             }
            },
            "header": {
             "fill": {
              "color": "#C8D4E3"
             },
             "line": {
              "color": "white"
             }
            },
            "type": "table"
           }
          ]
         },
         "layout": {
          "annotationdefaults": {
           "arrowcolor": "#2a3f5f",
           "arrowhead": 0,
           "arrowwidth": 1
          },
          "autotypenumbers": "strict",
          "coloraxis": {
           "colorbar": {
            "outlinewidth": 0,
            "ticks": ""
           }
          },
          "colorscale": {
           "diverging": [
            [
             0,
             "#8e0152"
            ],
            [
             0.1,
             "#c51b7d"
            ],
            [
             0.2,
             "#de77ae"
            ],
            [
             0.3,
             "#f1b6da"
            ],
            [
             0.4,
             "#fde0ef"
            ],
            [
             0.5,
             "#f7f7f7"
            ],
            [
             0.6,
             "#e6f5d0"
            ],
            [
             0.7,
             "#b8e186"
            ],
            [
             0.8,
             "#7fbc41"
            ],
            [
             0.9,
             "#4d9221"
            ],
            [
             1,
             "#276419"
            ]
           ],
           "sequential": [
            [
             0,
             "#0d0887"
            ],
            [
             0.1111111111111111,
             "#46039f"
            ],
            [
             0.2222222222222222,
             "#7201a8"
            ],
            [
             0.3333333333333333,
             "#9c179e"
            ],
            [
             0.4444444444444444,
             "#bd3786"
            ],
            [
             0.5555555555555556,
             "#d8576b"
            ],
            [
             0.6666666666666666,
             "#ed7953"
            ],
            [
             0.7777777777777778,
             "#fb9f3a"
            ],
            [
             0.8888888888888888,
             "#fdca26"
            ],
            [
             1,
             "#f0f921"
            ]
           ],
           "sequentialminus": [
            [
             0,
             "#0d0887"
            ],
            [
             0.1111111111111111,
             "#46039f"
            ],
            [
             0.2222222222222222,
             "#7201a8"
            ],
            [
             0.3333333333333333,
             "#9c179e"
            ],
            [
             0.4444444444444444,
             "#bd3786"
            ],
            [
             0.5555555555555556,
             "#d8576b"
            ],
            [
             0.6666666666666666,
             "#ed7953"
            ],
            [
             0.7777777777777778,
             "#fb9f3a"
            ],
            [
             0.8888888888888888,
             "#fdca26"
            ],
            [
             1,
             "#f0f921"
            ]
           ]
          },
          "colorway": [
           "#636efa",
           "#EF553B",
           "#00cc96",
           "#ab63fa",
           "#FFA15A",
           "#19d3f3",
           "#FF6692",
           "#B6E880",
           "#FF97FF",
           "#FECB52"
          ],
          "font": {
           "color": "#2a3f5f"
          },
          "geo": {
           "bgcolor": "white",
           "lakecolor": "white",
           "landcolor": "#E5ECF6",
           "showlakes": true,
           "showland": true,
           "subunitcolor": "white"
          },
          "hoverlabel": {
           "align": "left"
          },
          "hovermode": "closest",
          "mapbox": {
           "style": "light"
          },
          "paper_bgcolor": "white",
          "plot_bgcolor": "#E5ECF6",
          "polar": {
           "angularaxis": {
            "gridcolor": "white",
            "linecolor": "white",
            "ticks": ""
           },
           "bgcolor": "#E5ECF6",
           "radialaxis": {
            "gridcolor": "white",
            "linecolor": "white",
            "ticks": ""
           }
          },
          "scene": {
           "xaxis": {
            "backgroundcolor": "#E5ECF6",
            "gridcolor": "white",
            "gridwidth": 2,
            "linecolor": "white",
            "showbackground": true,
            "ticks": "",
            "zerolinecolor": "white"
           },
           "yaxis": {
            "backgroundcolor": "#E5ECF6",
            "gridcolor": "white",
            "gridwidth": 2,
            "linecolor": "white",
            "showbackground": true,
            "ticks": "",
            "zerolinecolor": "white"
           },
           "zaxis": {
            "backgroundcolor": "#E5ECF6",
            "gridcolor": "white",
            "gridwidth": 2,
            "linecolor": "white",
            "showbackground": true,
            "ticks": "",
            "zerolinecolor": "white"
           }
          },
          "shapedefaults": {
           "line": {
            "color": "#2a3f5f"
           }
          },
          "ternary": {
           "aaxis": {
            "gridcolor": "white",
            "linecolor": "white",
            "ticks": ""
           },
           "baxis": {
            "gridcolor": "white",
            "linecolor": "white",
            "ticks": ""
           },
           "bgcolor": "#E5ECF6",
           "caxis": {
            "gridcolor": "white",
            "linecolor": "white",
            "ticks": ""
           }
          },
          "title": {
           "x": 0.05
          },
          "xaxis": {
           "automargin": true,
           "gridcolor": "white",
           "linecolor": "white",
           "ticks": "",
           "title": {
            "standoff": 15
           },
           "zerolinecolor": "white",
           "zerolinewidth": 2
          },
          "yaxis": {
           "automargin": true,
           "gridcolor": "white",
           "linecolor": "white",
           "ticks": "",
           "title": {
            "standoff": 15
           },
           "zerolinecolor": "white",
           "zerolinewidth": 2
          }
         }
        },
        "xaxis": {
         "anchor": "y",
         "domain": [
          0,
          1
         ],
         "title": {
          "text": "受教育程度"
         }
        },
        "yaxis": {
         "anchor": "x",
         "domain": [
          0,
          1
         ],
         "title": {
          "text": "数量"
         }
        }
       }
      }
     },
     "metadata": {},
     "output_type": "display_data"
    }
   ],
   "source": [
    "# 单变量数据分析\n",
    "\n",
    "mytools.使用plotly绘制类别变量柱状图(数据表,'受教育程度')"
   ]
  },
  {
   "cell_type": "code",
   "execution_count": 18,
   "metadata": {},
   "outputs": [
    {
     "data": {
      "application/vnd.plotly.v1+json": {
       "config": {
        "plotlyServerURL": "https://plot.ly"
       },
       "data": [
        {
         "alignmentgroup": "True",
         "hovertemplate": "受教育程度=%{x}<br>信息判断能力=%{y}<extra></extra>",
         "legendgroup": "",
         "marker": {
          "color": "#636efa"
         },
         "name": "",
         "notched": false,
         "offsetgroup": "",
         "orientation": "v",
         "showlegend": false,
         "type": "box",
         "x": [
          "未上过学",
          "未上过学",
          "未上过学",
          "小学",
          "小学",
          "初中",
          "小学",
          "小学",
          "小学",
          "初中",
          "高中",
          "大学",
          "高中",
          "小学",
          "未上过学",
          "未上过学",
          "未上过学",
          "未上过学",
          "小学",
          "小学",
          "未上过学",
          "未上过学",
          "未上过学",
          "小学",
          "小学",
          "未上过学",
          "未上过学",
          "未上过学",
          "未上过学",
          "小学",
          "高中",
          "小学",
          "小学",
          "小学",
          "小学",
          "小学",
          "小学",
          "小学",
          "小学",
          "小学",
          "小学",
          "小学",
          "小学",
          "小学",
          "小学",
          "小学",
          "未上过学",
          "初中",
          "未上过学",
          "未上过学",
          "未上过学",
          "未上过学",
          "小学",
          "小学",
          "未上过学",
          "小学",
          "小学",
          "未上过学",
          "未上过学",
          "未上过学",
          "未上过学",
          "小学",
          "未上过学",
          "小学",
          "小学",
          "未上过学",
          "小学",
          "小学",
          "小学",
          "小学",
          "未上过学",
          "初中",
          "小学",
          "小学",
          "未上过学",
          "未上过学",
          "小学",
          "小学",
          "小学",
          "未上过学",
          "小学",
          "初中",
          "初中",
          "小学",
          "小学",
          "小学",
          "未上过学",
          "小学",
          "小学",
          "小学",
          "初中",
          "小学",
          "小学",
          "大学"
         ],
         "x0": " ",
         "xaxis": "x",
         "y": [
          13,
          15,
          13,
          10,
          14,
          16,
          7,
          10,
          10,
          14,
          19,
          16,
          20,
          10,
          15,
          10,
          10,
          10,
          18,
          17,
          10,
          10,
          10,
          12,
          17,
          13,
          13,
          16,
          10,
          15,
          20,
          10,
          10,
          15,
          13,
          8,
          12,
          16,
          17,
          15,
          17,
          21,
          18,
          17,
          15,
          16,
          16,
          18,
          10,
          5,
          12,
          13,
          8,
          16,
          13,
          8,
          10,
          16,
          15,
          11,
          12,
          12,
          11,
          16,
          12,
          16,
          12,
          10,
          13,
          11,
          10,
          12,
          11,
          11,
          16,
          16,
          21,
          10,
          13,
          12,
          12,
          16,
          14,
          17,
          19,
          17,
          18,
          16,
          11,
          16,
          18,
          12,
          20,
          21
         ],
         "y0": " ",
         "yaxis": "y"
        }
       ],
       "layout": {
        "boxmode": "group",
        "legend": {
         "tracegroupgap": 0
        },
        "margin": {
         "t": 60
        },
        "template": {
         "data": {
          "bar": [
           {
            "error_x": {
             "color": "#2a3f5f"
            },
            "error_y": {
             "color": "#2a3f5f"
            },
            "marker": {
             "line": {
              "color": "#E5ECF6",
              "width": 0.5
             },
             "pattern": {
              "fillmode": "overlay",
              "size": 10,
              "solidity": 0.2
             }
            },
            "type": "bar"
           }
          ],
          "barpolar": [
           {
            "marker": {
             "line": {
              "color": "#E5ECF6",
              "width": 0.5
             },
             "pattern": {
              "fillmode": "overlay",
              "size": 10,
              "solidity": 0.2
             }
            },
            "type": "barpolar"
           }
          ],
          "carpet": [
           {
            "aaxis": {
             "endlinecolor": "#2a3f5f",
             "gridcolor": "white",
             "linecolor": "white",
             "minorgridcolor": "white",
             "startlinecolor": "#2a3f5f"
            },
            "baxis": {
             "endlinecolor": "#2a3f5f",
             "gridcolor": "white",
             "linecolor": "white",
             "minorgridcolor": "white",
             "startlinecolor": "#2a3f5f"
            },
            "type": "carpet"
           }
          ],
          "choropleth": [
           {
            "colorbar": {
             "outlinewidth": 0,
             "ticks": ""
            },
            "type": "choropleth"
           }
          ],
          "contour": [
           {
            "colorbar": {
             "outlinewidth": 0,
             "ticks": ""
            },
            "colorscale": [
             [
              0,
              "#0d0887"
             ],
             [
              0.1111111111111111,
              "#46039f"
             ],
             [
              0.2222222222222222,
              "#7201a8"
             ],
             [
              0.3333333333333333,
              "#9c179e"
             ],
             [
              0.4444444444444444,
              "#bd3786"
             ],
             [
              0.5555555555555556,
              "#d8576b"
             ],
             [
              0.6666666666666666,
              "#ed7953"
             ],
             [
              0.7777777777777778,
              "#fb9f3a"
             ],
             [
              0.8888888888888888,
              "#fdca26"
             ],
             [
              1,
              "#f0f921"
             ]
            ],
            "type": "contour"
           }
          ],
          "contourcarpet": [
           {
            "colorbar": {
             "outlinewidth": 0,
             "ticks": ""
            },
            "type": "contourcarpet"
           }
          ],
          "heatmap": [
           {
            "colorbar": {
             "outlinewidth": 0,
             "ticks": ""
            },
            "colorscale": [
             [
              0,
              "#0d0887"
             ],
             [
              0.1111111111111111,
              "#46039f"
             ],
             [
              0.2222222222222222,
              "#7201a8"
             ],
             [
              0.3333333333333333,
              "#9c179e"
             ],
             [
              0.4444444444444444,
              "#bd3786"
             ],
             [
              0.5555555555555556,
              "#d8576b"
             ],
             [
              0.6666666666666666,
              "#ed7953"
             ],
             [
              0.7777777777777778,
              "#fb9f3a"
             ],
             [
              0.8888888888888888,
              "#fdca26"
             ],
             [
              1,
              "#f0f921"
             ]
            ],
            "type": "heatmap"
           }
          ],
          "heatmapgl": [
           {
            "colorbar": {
             "outlinewidth": 0,
             "ticks": ""
            },
            "colorscale": [
             [
              0,
              "#0d0887"
             ],
             [
              0.1111111111111111,
              "#46039f"
             ],
             [
              0.2222222222222222,
              "#7201a8"
             ],
             [
              0.3333333333333333,
              "#9c179e"
             ],
             [
              0.4444444444444444,
              "#bd3786"
             ],
             [
              0.5555555555555556,
              "#d8576b"
             ],
             [
              0.6666666666666666,
              "#ed7953"
             ],
             [
              0.7777777777777778,
              "#fb9f3a"
             ],
             [
              0.8888888888888888,
              "#fdca26"
             ],
             [
              1,
              "#f0f921"
             ]
            ],
            "type": "heatmapgl"
           }
          ],
          "histogram": [
           {
            "marker": {
             "pattern": {
              "fillmode": "overlay",
              "size": 10,
              "solidity": 0.2
             }
            },
            "type": "histogram"
           }
          ],
          "histogram2d": [
           {
            "colorbar": {
             "outlinewidth": 0,
             "ticks": ""
            },
            "colorscale": [
             [
              0,
              "#0d0887"
             ],
             [
              0.1111111111111111,
              "#46039f"
             ],
             [
              0.2222222222222222,
              "#7201a8"
             ],
             [
              0.3333333333333333,
              "#9c179e"
             ],
             [
              0.4444444444444444,
              "#bd3786"
             ],
             [
              0.5555555555555556,
              "#d8576b"
             ],
             [
              0.6666666666666666,
              "#ed7953"
             ],
             [
              0.7777777777777778,
              "#fb9f3a"
             ],
             [
              0.8888888888888888,
              "#fdca26"
             ],
             [
              1,
              "#f0f921"
             ]
            ],
            "type": "histogram2d"
           }
          ],
          "histogram2dcontour": [
           {
            "colorbar": {
             "outlinewidth": 0,
             "ticks": ""
            },
            "colorscale": [
             [
              0,
              "#0d0887"
             ],
             [
              0.1111111111111111,
              "#46039f"
             ],
             [
              0.2222222222222222,
              "#7201a8"
             ],
             [
              0.3333333333333333,
              "#9c179e"
             ],
             [
              0.4444444444444444,
              "#bd3786"
             ],
             [
              0.5555555555555556,
              "#d8576b"
             ],
             [
              0.6666666666666666,
              "#ed7953"
             ],
             [
              0.7777777777777778,
              "#fb9f3a"
             ],
             [
              0.8888888888888888,
              "#fdca26"
             ],
             [
              1,
              "#f0f921"
             ]
            ],
            "type": "histogram2dcontour"
           }
          ],
          "mesh3d": [
           {
            "colorbar": {
             "outlinewidth": 0,
             "ticks": ""
            },
            "type": "mesh3d"
           }
          ],
          "parcoords": [
           {
            "line": {
             "colorbar": {
              "outlinewidth": 0,
              "ticks": ""
             }
            },
            "type": "parcoords"
           }
          ],
          "pie": [
           {
            "automargin": true,
            "type": "pie"
           }
          ],
          "scatter": [
           {
            "fillpattern": {
             "fillmode": "overlay",
             "size": 10,
             "solidity": 0.2
            },
            "type": "scatter"
           }
          ],
          "scatter3d": [
           {
            "line": {
             "colorbar": {
              "outlinewidth": 0,
              "ticks": ""
             }
            },
            "marker": {
             "colorbar": {
              "outlinewidth": 0,
              "ticks": ""
             }
            },
            "type": "scatter3d"
           }
          ],
          "scattercarpet": [
           {
            "marker": {
             "colorbar": {
              "outlinewidth": 0,
              "ticks": ""
             }
            },
            "type": "scattercarpet"
           }
          ],
          "scattergeo": [
           {
            "marker": {
             "colorbar": {
              "outlinewidth": 0,
              "ticks": ""
             }
            },
            "type": "scattergeo"
           }
          ],
          "scattergl": [
           {
            "marker": {
             "colorbar": {
              "outlinewidth": 0,
              "ticks": ""
             }
            },
            "type": "scattergl"
           }
          ],
          "scattermapbox": [
           {
            "marker": {
             "colorbar": {
              "outlinewidth": 0,
              "ticks": ""
             }
            },
            "type": "scattermapbox"
           }
          ],
          "scatterpolar": [
           {
            "marker": {
             "colorbar": {
              "outlinewidth": 0,
              "ticks": ""
             }
            },
            "type": "scatterpolar"
           }
          ],
          "scatterpolargl": [
           {
            "marker": {
             "colorbar": {
              "outlinewidth": 0,
              "ticks": ""
             }
            },
            "type": "scatterpolargl"
           }
          ],
          "scatterternary": [
           {
            "marker": {
             "colorbar": {
              "outlinewidth": 0,
              "ticks": ""
             }
            },
            "type": "scatterternary"
           }
          ],
          "surface": [
           {
            "colorbar": {
             "outlinewidth": 0,
             "ticks": ""
            },
            "colorscale": [
             [
              0,
              "#0d0887"
             ],
             [
              0.1111111111111111,
              "#46039f"
             ],
             [
              0.2222222222222222,
              "#7201a8"
             ],
             [
              0.3333333333333333,
              "#9c179e"
             ],
             [
              0.4444444444444444,
              "#bd3786"
             ],
             [
              0.5555555555555556,
              "#d8576b"
             ],
             [
              0.6666666666666666,
              "#ed7953"
             ],
             [
              0.7777777777777778,
              "#fb9f3a"
             ],
             [
              0.8888888888888888,
              "#fdca26"
             ],
             [
              1,
              "#f0f921"
             ]
            ],
            "type": "surface"
           }
          ],
          "table": [
           {
            "cells": {
             "fill": {
              "color": "#EBF0F8"
             },
             "line": {
              "color": "white"
             }
            },
            "header": {
             "fill": {
              "color": "#C8D4E3"
             },
             "line": {
              "color": "white"
             }
            },
            "type": "table"
           }
          ]
         },
         "layout": {
          "annotationdefaults": {
           "arrowcolor": "#2a3f5f",
           "arrowhead": 0,
           "arrowwidth": 1
          },
          "autotypenumbers": "strict",
          "coloraxis": {
           "colorbar": {
            "outlinewidth": 0,
            "ticks": ""
           }
          },
          "colorscale": {
           "diverging": [
            [
             0,
             "#8e0152"
            ],
            [
             0.1,
             "#c51b7d"
            ],
            [
             0.2,
             "#de77ae"
            ],
            [
             0.3,
             "#f1b6da"
            ],
            [
             0.4,
             "#fde0ef"
            ],
            [
             0.5,
             "#f7f7f7"
            ],
            [
             0.6,
             "#e6f5d0"
            ],
            [
             0.7,
             "#b8e186"
            ],
            [
             0.8,
             "#7fbc41"
            ],
            [
             0.9,
             "#4d9221"
            ],
            [
             1,
             "#276419"
            ]
           ],
           "sequential": [
            [
             0,
             "#0d0887"
            ],
            [
             0.1111111111111111,
             "#46039f"
            ],
            [
             0.2222222222222222,
             "#7201a8"
            ],
            [
             0.3333333333333333,
             "#9c179e"
            ],
            [
             0.4444444444444444,
             "#bd3786"
            ],
            [
             0.5555555555555556,
             "#d8576b"
            ],
            [
             0.6666666666666666,
             "#ed7953"
            ],
            [
             0.7777777777777778,
             "#fb9f3a"
            ],
            [
             0.8888888888888888,
             "#fdca26"
            ],
            [
             1,
             "#f0f921"
            ]
           ],
           "sequentialminus": [
            [
             0,
             "#0d0887"
            ],
            [
             0.1111111111111111,
             "#46039f"
            ],
            [
             0.2222222222222222,
             "#7201a8"
            ],
            [
             0.3333333333333333,
             "#9c179e"
            ],
            [
             0.4444444444444444,
             "#bd3786"
            ],
            [
             0.5555555555555556,
             "#d8576b"
            ],
            [
             0.6666666666666666,
             "#ed7953"
            ],
            [
             0.7777777777777778,
             "#fb9f3a"
            ],
            [
             0.8888888888888888,
             "#fdca26"
            ],
            [
             1,
             "#f0f921"
            ]
           ]
          },
          "colorway": [
           "#636efa",
           "#EF553B",
           "#00cc96",
           "#ab63fa",
           "#FFA15A",
           "#19d3f3",
           "#FF6692",
           "#B6E880",
           "#FF97FF",
           "#FECB52"
          ],
          "font": {
           "color": "#2a3f5f"
          },
          "geo": {
           "bgcolor": "white",
           "lakecolor": "white",
           "landcolor": "#E5ECF6",
           "showlakes": true,
           "showland": true,
           "subunitcolor": "white"
          },
          "hoverlabel": {
           "align": "left"
          },
          "hovermode": "closest",
          "mapbox": {
           "style": "light"
          },
          "paper_bgcolor": "white",
          "plot_bgcolor": "#E5ECF6",
          "polar": {
           "angularaxis": {
            "gridcolor": "white",
            "linecolor": "white",
            "ticks": ""
           },
           "bgcolor": "#E5ECF6",
           "radialaxis": {
            "gridcolor": "white",
            "linecolor": "white",
            "ticks": ""
           }
          },
          "scene": {
           "xaxis": {
            "backgroundcolor": "#E5ECF6",
            "gridcolor": "white",
            "gridwidth": 2,
            "linecolor": "white",
            "showbackground": true,
            "ticks": "",
            "zerolinecolor": "white"
           },
           "yaxis": {
            "backgroundcolor": "#E5ECF6",
            "gridcolor": "white",
            "gridwidth": 2,
            "linecolor": "white",
            "showbackground": true,
            "ticks": "",
            "zerolinecolor": "white"
           },
           "zaxis": {
            "backgroundcolor": "#E5ECF6",
            "gridcolor": "white",
            "gridwidth": 2,
            "linecolor": "white",
            "showbackground": true,
            "ticks": "",
            "zerolinecolor": "white"
           }
          },
          "shapedefaults": {
           "line": {
            "color": "#2a3f5f"
           }
          },
          "ternary": {
           "aaxis": {
            "gridcolor": "white",
            "linecolor": "white",
            "ticks": ""
           },
           "baxis": {
            "gridcolor": "white",
            "linecolor": "white",
            "ticks": ""
           },
           "bgcolor": "#E5ECF6",
           "caxis": {
            "gridcolor": "white",
            "linecolor": "white",
            "ticks": ""
           }
          },
          "title": {
           "x": 0.05
          },
          "xaxis": {
           "automargin": true,
           "gridcolor": "white",
           "linecolor": "white",
           "ticks": "",
           "title": {
            "standoff": 15
           },
           "zerolinecolor": "white",
           "zerolinewidth": 2
          },
          "yaxis": {
           "automargin": true,
           "gridcolor": "white",
           "linecolor": "white",
           "ticks": "",
           "title": {
            "standoff": 15
           },
           "zerolinecolor": "white",
           "zerolinewidth": 2
          }
         }
        },
        "xaxis": {
         "anchor": "y",
         "domain": [
          0,
          1
         ],
         "title": {
          "text": "受教育程度"
         }
        },
        "yaxis": {
         "anchor": "x",
         "domain": [
          0,
          1
         ],
         "title": {
          "text": "信息判断能力"
         }
        }
       }
      }
     },
     "metadata": {},
     "output_type": "display_data"
    },
    {
     "name": "stdout",
     "output_type": "stream",
     "text": [
      "各个类别的平均值：\n",
      "受教育程度\n",
      "未上过学      12.580645\n",
      "小学        13.607843\n",
      "初中        15.428571\n",
      "高中        19.666667\n",
      "大学        18.500000\n",
      "研究生及以上          NaN\n",
      "Name: 信息判断能力, dtype: float64\n",
      "相关比率：0.1869622973550752\n",
      "高度相关\n",
      "F检验的p值：0.0009318223639707978\n",
      "                            OLS Regression Results                            \n",
      "==============================================================================\n",
      "Dep. Variable:                 信息判断能力   R-squared:                       0.187\n",
      "Model:                            OLS   Adj. R-squared:                  0.150\n",
      "Method:                 Least Squares   F-statistic:                     5.117\n",
      "Date:                Thu, 04 Jan 2024   Prob (F-statistic):           0.000932\n",
      "Time:                        15:26:23   Log-Likelihood:                -240.93\n",
      "No. Observations:                  94   AIC:                             491.9\n",
      "Df Residuals:                      89   BIC:                             504.6\n",
      "Df Model:                           4                                         \n",
      "Covariance Type:            nonrobust                                         \n",
      "===================================================================================\n",
      "                      coef    std err          t      P>|t|      [0.025      0.975]\n",
      "-----------------------------------------------------------------------------------\n",
      "Intercept          12.5806      0.580     21.709      0.000      11.429      13.732\n",
      "受教育程度[T.小学]         1.0272      0.735      1.398      0.166      -0.433       2.487\n",
      "受教育程度[T.初中]         2.8479      1.350      2.109      0.038       0.165       5.531\n",
      "受教育程度[T.高中]         7.0860      1.951      3.632      0.000       3.210      10.963\n",
      "受教育程度[T.大学]         5.9194      2.354      2.515      0.014       1.242      10.597\n",
      "受教育程度[T.研究生及以上]          0          0        nan        nan           0           0\n",
      "==============================================================================\n",
      "Omnibus:                        1.221   Durbin-Watson:                   1.422\n",
      "Prob(Omnibus):                  0.543   Jarque-Bera (JB):                1.106\n",
      "Skew:                           0.087   Prob(JB):                        0.575\n",
      "Kurtosis:                       2.498   Cond. No.                          inf\n",
      "==============================================================================\n",
      "\n",
      "Notes:\n",
      "[1] Standard Errors assume that the covariance matrix of the errors is correctly specified.\n",
      "[2] The smallest eigenvalue is      0. This might indicate that there are\n",
      "strong multicollinearity problems or that the design matrix is singular.\n"
     ]
    },
    {
     "name": "stderr",
     "output_type": "stream",
     "text": [
      "C:\\Users\\86147\\AppData\\Roaming\\Python\\Python38\\site-packages\\statsmodels\\regression\\linear_model.py:1965: RuntimeWarning:\n",
      "\n",
      "divide by zero encountered in scalar divide\n",
      "\n"
     ]
    }
   ],
   "source": [
    "# 双变量相关性分析\n",
    "mytools.类别变量与数值变量统计分析(数据表, '受教育程度','信息判断能力')"
   ]
  },
  {
   "cell_type": "code",
   "execution_count": 19,
   "metadata": {},
   "outputs": [
    {
     "data": {
      "application/vnd.plotly.v1+json": {
       "config": {
        "plotlyServerURL": "https://plot.ly"
       },
       "data": [
        {
         "hovertemplate": "信息判断能力=%{x}<br>生活满意度=%{y}<extra></extra>",
         "legendgroup": "",
         "marker": {
          "color": "#636efa",
          "symbol": "circle"
         },
         "mode": "markers",
         "name": "",
         "orientation": "v",
         "showlegend": false,
         "type": "scatter",
         "x": [
          13,
          15,
          13,
          10,
          14,
          16,
          7,
          10,
          10,
          14,
          19,
          16,
          20,
          10,
          15,
          10,
          10,
          10,
          18,
          17,
          10,
          10,
          10,
          12,
          17,
          13,
          13,
          16,
          10,
          15,
          20,
          10,
          10,
          15,
          13,
          8,
          12,
          16,
          17,
          15,
          17,
          21,
          18,
          17,
          15,
          16,
          16,
          18,
          10,
          5,
          12,
          13,
          8,
          16,
          13,
          8,
          10,
          16,
          15,
          11,
          12,
          12,
          11,
          16,
          12,
          16,
          12,
          10,
          13,
          11,
          10,
          12,
          11,
          11,
          16,
          16,
          21,
          10,
          13,
          12,
          12,
          16,
          14,
          17,
          19,
          17,
          18,
          16,
          11,
          16,
          18,
          12,
          20,
          21
         ],
         "xaxis": "x",
         "y": [
          24,
          26,
          29,
          33,
          25,
          19,
          30,
          20,
          30,
          17,
          25,
          29,
          18,
          28,
          28,
          24,
          31,
          10,
          27,
          20,
          10,
          20,
          28,
          26,
          24,
          30,
          24,
          27,
          21,
          27,
          16,
          30,
          25,
          16,
          14,
          32,
          27,
          31,
          31,
          25,
          22,
          28,
          28,
          18,
          19,
          17,
          28,
          22,
          18,
          27,
          30,
          26,
          26,
          29,
          28,
          30,
          30,
          26,
          29,
          21,
          25,
          28,
          23,
          24,
          24,
          28,
          28,
          28,
          28,
          29,
          31,
          27,
          28,
          30,
          23,
          25,
          27,
          26,
          29,
          27,
          30,
          30,
          32,
          31,
          28,
          26,
          27,
          20,
          24,
          28,
          30,
          30,
          28,
          26
         ],
         "yaxis": "y"
        },
        {
         "hovertemplate": "<b>OLS trendline</b><br>生活满意度 = -0.125495 * 信息判断能力 + 27.3259<br>R<sup>2</sup>=0.008401<br><br>信息判断能力=%{x}<br>生活满意度=%{y} <b>(trend)</b><extra></extra>",
         "legendgroup": "",
         "marker": {
          "color": "#636efa",
          "symbol": "circle"
         },
         "mode": "lines",
         "name": "",
         "showlegend": false,
         "type": "scatter",
         "x": [
          5,
          7,
          8,
          8,
          8,
          10,
          10,
          10,
          10,
          10,
          10,
          10,
          10,
          10,
          10,
          10,
          10,
          10,
          10,
          10,
          10,
          10,
          10,
          11,
          11,
          11,
          11,
          11,
          11,
          12,
          12,
          12,
          12,
          12,
          12,
          12,
          12,
          12,
          12,
          12,
          13,
          13,
          13,
          13,
          13,
          13,
          13,
          13,
          13,
          14,
          14,
          14,
          15,
          15,
          15,
          15,
          15,
          15,
          15,
          16,
          16,
          16,
          16,
          16,
          16,
          16,
          16,
          16,
          16,
          16,
          16,
          16,
          16,
          16,
          17,
          17,
          17,
          17,
          17,
          17,
          17,
          18,
          18,
          18,
          18,
          18,
          19,
          19,
          20,
          20,
          20,
          21,
          21,
          21
         ],
         "xaxis": "x",
         "y": [
          26.698454185647066,
          26.44746471510715,
          26.321969979837192,
          26.321969979837192,
          26.321969979837192,
          26.070980509297275,
          26.070980509297275,
          26.070980509297275,
          26.070980509297275,
          26.070980509297275,
          26.070980509297275,
          26.070980509297275,
          26.070980509297275,
          26.070980509297275,
          26.070980509297275,
          26.070980509297275,
          26.070980509297275,
          26.070980509297275,
          26.070980509297275,
          26.070980509297275,
          26.070980509297275,
          26.070980509297275,
          26.070980509297275,
          25.94548577402732,
          25.94548577402732,
          25.94548577402732,
          25.94548577402732,
          25.94548577402732,
          25.94548577402732,
          25.819991038757358,
          25.819991038757358,
          25.819991038757358,
          25.819991038757358,
          25.819991038757358,
          25.819991038757358,
          25.819991038757358,
          25.819991038757358,
          25.819991038757358,
          25.819991038757358,
          25.819991038757358,
          25.6944963034874,
          25.6944963034874,
          25.6944963034874,
          25.6944963034874,
          25.6944963034874,
          25.6944963034874,
          25.6944963034874,
          25.6944963034874,
          25.6944963034874,
          25.569001568217445,
          25.569001568217445,
          25.569001568217445,
          25.443506832947488,
          25.443506832947488,
          25.443506832947488,
          25.443506832947488,
          25.443506832947488,
          25.443506832947488,
          25.443506832947488,
          25.318012097677528,
          25.318012097677528,
          25.318012097677528,
          25.318012097677528,
          25.318012097677528,
          25.318012097677528,
          25.318012097677528,
          25.318012097677528,
          25.318012097677528,
          25.318012097677528,
          25.318012097677528,
          25.318012097677528,
          25.318012097677528,
          25.318012097677528,
          25.318012097677528,
          25.19251736240757,
          25.19251736240757,
          25.19251736240757,
          25.19251736240757,
          25.19251736240757,
          25.19251736240757,
          25.19251736240757,
          25.067022627137614,
          25.067022627137614,
          25.067022627137614,
          25.067022627137614,
          25.067022627137614,
          24.941527891867654,
          24.941527891867654,
          24.816033156597697,
          24.816033156597697,
          24.816033156597697,
          24.69053842132774,
          24.69053842132774,
          24.69053842132774
         ],
         "yaxis": "y"
        }
       ],
       "layout": {
        "legend": {
         "tracegroupgap": 0
        },
        "margin": {
         "t": 60
        },
        "template": {
         "data": {
          "bar": [
           {
            "error_x": {
             "color": "#2a3f5f"
            },
            "error_y": {
             "color": "#2a3f5f"
            },
            "marker": {
             "line": {
              "color": "#E5ECF6",
              "width": 0.5
             },
             "pattern": {
              "fillmode": "overlay",
              "size": 10,
              "solidity": 0.2
             }
            },
            "type": "bar"
           }
          ],
          "barpolar": [
           {
            "marker": {
             "line": {
              "color": "#E5ECF6",
              "width": 0.5
             },
             "pattern": {
              "fillmode": "overlay",
              "size": 10,
              "solidity": 0.2
             }
            },
            "type": "barpolar"
           }
          ],
          "carpet": [
           {
            "aaxis": {
             "endlinecolor": "#2a3f5f",
             "gridcolor": "white",
             "linecolor": "white",
             "minorgridcolor": "white",
             "startlinecolor": "#2a3f5f"
            },
            "baxis": {
             "endlinecolor": "#2a3f5f",
             "gridcolor": "white",
             "linecolor": "white",
             "minorgridcolor": "white",
             "startlinecolor": "#2a3f5f"
            },
            "type": "carpet"
           }
          ],
          "choropleth": [
           {
            "colorbar": {
             "outlinewidth": 0,
             "ticks": ""
            },
            "type": "choropleth"
           }
          ],
          "contour": [
           {
            "colorbar": {
             "outlinewidth": 0,
             "ticks": ""
            },
            "colorscale": [
             [
              0,
              "#0d0887"
             ],
             [
              0.1111111111111111,
              "#46039f"
             ],
             [
              0.2222222222222222,
              "#7201a8"
             ],
             [
              0.3333333333333333,
              "#9c179e"
             ],
             [
              0.4444444444444444,
              "#bd3786"
             ],
             [
              0.5555555555555556,
              "#d8576b"
             ],
             [
              0.6666666666666666,
              "#ed7953"
             ],
             [
              0.7777777777777778,
              "#fb9f3a"
             ],
             [
              0.8888888888888888,
              "#fdca26"
             ],
             [
              1,
              "#f0f921"
             ]
            ],
            "type": "contour"
           }
          ],
          "contourcarpet": [
           {
            "colorbar": {
             "outlinewidth": 0,
             "ticks": ""
            },
            "type": "contourcarpet"
           }
          ],
          "heatmap": [
           {
            "colorbar": {
             "outlinewidth": 0,
             "ticks": ""
            },
            "colorscale": [
             [
              0,
              "#0d0887"
             ],
             [
              0.1111111111111111,
              "#46039f"
             ],
             [
              0.2222222222222222,
              "#7201a8"
             ],
             [
              0.3333333333333333,
              "#9c179e"
             ],
             [
              0.4444444444444444,
              "#bd3786"
             ],
             [
              0.5555555555555556,
              "#d8576b"
             ],
             [
              0.6666666666666666,
              "#ed7953"
             ],
             [
              0.7777777777777778,
              "#fb9f3a"
             ],
             [
              0.8888888888888888,
              "#fdca26"
             ],
             [
              1,
              "#f0f921"
             ]
            ],
            "type": "heatmap"
           }
          ],
          "heatmapgl": [
           {
            "colorbar": {
             "outlinewidth": 0,
             "ticks": ""
            },
            "colorscale": [
             [
              0,
              "#0d0887"
             ],
             [
              0.1111111111111111,
              "#46039f"
             ],
             [
              0.2222222222222222,
              "#7201a8"
             ],
             [
              0.3333333333333333,
              "#9c179e"
             ],
             [
              0.4444444444444444,
              "#bd3786"
             ],
             [
              0.5555555555555556,
              "#d8576b"
             ],
             [
              0.6666666666666666,
              "#ed7953"
             ],
             [
              0.7777777777777778,
              "#fb9f3a"
             ],
             [
              0.8888888888888888,
              "#fdca26"
             ],
             [
              1,
              "#f0f921"
             ]
            ],
            "type": "heatmapgl"
           }
          ],
          "histogram": [
           {
            "marker": {
             "pattern": {
              "fillmode": "overlay",
              "size": 10,
              "solidity": 0.2
             }
            },
            "type": "histogram"
           }
          ],
          "histogram2d": [
           {
            "colorbar": {
             "outlinewidth": 0,
             "ticks": ""
            },
            "colorscale": [
             [
              0,
              "#0d0887"
             ],
             [
              0.1111111111111111,
              "#46039f"
             ],
             [
              0.2222222222222222,
              "#7201a8"
             ],
             [
              0.3333333333333333,
              "#9c179e"
             ],
             [
              0.4444444444444444,
              "#bd3786"
             ],
             [
              0.5555555555555556,
              "#d8576b"
             ],
             [
              0.6666666666666666,
              "#ed7953"
             ],
             [
              0.7777777777777778,
              "#fb9f3a"
             ],
             [
              0.8888888888888888,
              "#fdca26"
             ],
             [
              1,
              "#f0f921"
             ]
            ],
            "type": "histogram2d"
           }
          ],
          "histogram2dcontour": [
           {
            "colorbar": {
             "outlinewidth": 0,
             "ticks": ""
            },
            "colorscale": [
             [
              0,
              "#0d0887"
             ],
             [
              0.1111111111111111,
              "#46039f"
             ],
             [
              0.2222222222222222,
              "#7201a8"
             ],
             [
              0.3333333333333333,
              "#9c179e"
             ],
             [
              0.4444444444444444,
              "#bd3786"
             ],
             [
              0.5555555555555556,
              "#d8576b"
             ],
             [
              0.6666666666666666,
              "#ed7953"
             ],
             [
              0.7777777777777778,
              "#fb9f3a"
             ],
             [
              0.8888888888888888,
              "#fdca26"
             ],
             [
              1,
              "#f0f921"
             ]
            ],
            "type": "histogram2dcontour"
           }
          ],
          "mesh3d": [
           {
            "colorbar": {
             "outlinewidth": 0,
             "ticks": ""
            },
            "type": "mesh3d"
           }
          ],
          "parcoords": [
           {
            "line": {
             "colorbar": {
              "outlinewidth": 0,
              "ticks": ""
             }
            },
            "type": "parcoords"
           }
          ],
          "pie": [
           {
            "automargin": true,
            "type": "pie"
           }
          ],
          "scatter": [
           {
            "fillpattern": {
             "fillmode": "overlay",
             "size": 10,
             "solidity": 0.2
            },
            "type": "scatter"
           }
          ],
          "scatter3d": [
           {
            "line": {
             "colorbar": {
              "outlinewidth": 0,
              "ticks": ""
             }
            },
            "marker": {
             "colorbar": {
              "outlinewidth": 0,
              "ticks": ""
             }
            },
            "type": "scatter3d"
           }
          ],
          "scattercarpet": [
           {
            "marker": {
             "colorbar": {
              "outlinewidth": 0,
              "ticks": ""
             }
            },
            "type": "scattercarpet"
           }
          ],
          "scattergeo": [
           {
            "marker": {
             "colorbar": {
              "outlinewidth": 0,
              "ticks": ""
             }
            },
            "type": "scattergeo"
           }
          ],
          "scattergl": [
           {
            "marker": {
             "colorbar": {
              "outlinewidth": 0,
              "ticks": ""
             }
            },
            "type": "scattergl"
           }
          ],
          "scattermapbox": [
           {
            "marker": {
             "colorbar": {
              "outlinewidth": 0,
              "ticks": ""
             }
            },
            "type": "scattermapbox"
           }
          ],
          "scatterpolar": [
           {
            "marker": {
             "colorbar": {
              "outlinewidth": 0,
              "ticks": ""
             }
            },
            "type": "scatterpolar"
           }
          ],
          "scatterpolargl": [
           {
            "marker": {
             "colorbar": {
              "outlinewidth": 0,
              "ticks": ""
             }
            },
            "type": "scatterpolargl"
           }
          ],
          "scatterternary": [
           {
            "marker": {
             "colorbar": {
              "outlinewidth": 0,
              "ticks": ""
             }
            },
            "type": "scatterternary"
           }
          ],
          "surface": [
           {
            "colorbar": {
             "outlinewidth": 0,
             "ticks": ""
            },
            "colorscale": [
             [
              0,
              "#0d0887"
             ],
             [
              0.1111111111111111,
              "#46039f"
             ],
             [
              0.2222222222222222,
              "#7201a8"
             ],
             [
              0.3333333333333333,
              "#9c179e"
             ],
             [
              0.4444444444444444,
              "#bd3786"
             ],
             [
              0.5555555555555556,
              "#d8576b"
             ],
             [
              0.6666666666666666,
              "#ed7953"
             ],
             [
              0.7777777777777778,
              "#fb9f3a"
             ],
             [
              0.8888888888888888,
              "#fdca26"
             ],
             [
              1,
              "#f0f921"
             ]
            ],
            "type": "surface"
           }
          ],
          "table": [
           {
            "cells": {
             "fill": {
              "color": "#EBF0F8"
             },
             "line": {
              "color": "white"
             }
            },
            "header": {
             "fill": {
              "color": "#C8D4E3"
             },
             "line": {
              "color": "white"
             }
            },
            "type": "table"
           }
          ]
         },
         "layout": {
          "annotationdefaults": {
           "arrowcolor": "#2a3f5f",
           "arrowhead": 0,
           "arrowwidth": 1
          },
          "autotypenumbers": "strict",
          "coloraxis": {
           "colorbar": {
            "outlinewidth": 0,
            "ticks": ""
           }
          },
          "colorscale": {
           "diverging": [
            [
             0,
             "#8e0152"
            ],
            [
             0.1,
             "#c51b7d"
            ],
            [
             0.2,
             "#de77ae"
            ],
            [
             0.3,
             "#f1b6da"
            ],
            [
             0.4,
             "#fde0ef"
            ],
            [
             0.5,
             "#f7f7f7"
            ],
            [
             0.6,
             "#e6f5d0"
            ],
            [
             0.7,
             "#b8e186"
            ],
            [
             0.8,
             "#7fbc41"
            ],
            [
             0.9,
             "#4d9221"
            ],
            [
             1,
             "#276419"
            ]
           ],
           "sequential": [
            [
             0,
             "#0d0887"
            ],
            [
             0.1111111111111111,
             "#46039f"
            ],
            [
             0.2222222222222222,
             "#7201a8"
            ],
            [
             0.3333333333333333,
             "#9c179e"
            ],
            [
             0.4444444444444444,
             "#bd3786"
            ],
            [
             0.5555555555555556,
             "#d8576b"
            ],
            [
             0.6666666666666666,
             "#ed7953"
            ],
            [
             0.7777777777777778,
             "#fb9f3a"
            ],
            [
             0.8888888888888888,
             "#fdca26"
            ],
            [
             1,
             "#f0f921"
            ]
           ],
           "sequentialminus": [
            [
             0,
             "#0d0887"
            ],
            [
             0.1111111111111111,
             "#46039f"
            ],
            [
             0.2222222222222222,
             "#7201a8"
            ],
            [
             0.3333333333333333,
             "#9c179e"
            ],
            [
             0.4444444444444444,
             "#bd3786"
            ],
            [
             0.5555555555555556,
             "#d8576b"
            ],
            [
             0.6666666666666666,
             "#ed7953"
            ],
            [
             0.7777777777777778,
             "#fb9f3a"
            ],
            [
             0.8888888888888888,
             "#fdca26"
            ],
            [
             1,
             "#f0f921"
            ]
           ]
          },
          "colorway": [
           "#636efa",
           "#EF553B",
           "#00cc96",
           "#ab63fa",
           "#FFA15A",
           "#19d3f3",
           "#FF6692",
           "#B6E880",
           "#FF97FF",
           "#FECB52"
          ],
          "font": {
           "color": "#2a3f5f"
          },
          "geo": {
           "bgcolor": "white",
           "lakecolor": "white",
           "landcolor": "#E5ECF6",
           "showlakes": true,
           "showland": true,
           "subunitcolor": "white"
          },
          "hoverlabel": {
           "align": "left"
          },
          "hovermode": "closest",
          "mapbox": {
           "style": "light"
          },
          "paper_bgcolor": "white",
          "plot_bgcolor": "#E5ECF6",
          "polar": {
           "angularaxis": {
            "gridcolor": "white",
            "linecolor": "white",
            "ticks": ""
           },
           "bgcolor": "#E5ECF6",
           "radialaxis": {
            "gridcolor": "white",
            "linecolor": "white",
            "ticks": ""
           }
          },
          "scene": {
           "xaxis": {
            "backgroundcolor": "#E5ECF6",
            "gridcolor": "white",
            "gridwidth": 2,
            "linecolor": "white",
            "showbackground": true,
            "ticks": "",
            "zerolinecolor": "white"
           },
           "yaxis": {
            "backgroundcolor": "#E5ECF6",
            "gridcolor": "white",
            "gridwidth": 2,
            "linecolor": "white",
            "showbackground": true,
            "ticks": "",
            "zerolinecolor": "white"
           },
           "zaxis": {
            "backgroundcolor": "#E5ECF6",
            "gridcolor": "white",
            "gridwidth": 2,
            "linecolor": "white",
            "showbackground": true,
            "ticks": "",
            "zerolinecolor": "white"
           }
          },
          "shapedefaults": {
           "line": {
            "color": "#2a3f5f"
           }
          },
          "ternary": {
           "aaxis": {
            "gridcolor": "white",
            "linecolor": "white",
            "ticks": ""
           },
           "baxis": {
            "gridcolor": "white",
            "linecolor": "white",
            "ticks": ""
           },
           "bgcolor": "#E5ECF6",
           "caxis": {
            "gridcolor": "white",
            "linecolor": "white",
            "ticks": ""
           }
          },
          "title": {
           "x": 0.05
          },
          "xaxis": {
           "automargin": true,
           "gridcolor": "white",
           "linecolor": "white",
           "ticks": "",
           "title": {
            "standoff": 15
           },
           "zerolinecolor": "white",
           "zerolinewidth": 2
          },
          "yaxis": {
           "automargin": true,
           "gridcolor": "white",
           "linecolor": "white",
           "ticks": "",
           "title": {
            "standoff": 15
           },
           "zerolinecolor": "white",
           "zerolinewidth": 2
          }
         }
        },
        "xaxis": {
         "anchor": "y",
         "domain": [
          0,
          1
         ],
         "title": {
          "text": "信息判断能力"
         }
        },
        "yaxis": {
         "anchor": "x",
         "domain": [
          0,
          1
         ],
         "title": {
          "text": "生活满意度"
         }
        }
       }
      }
     },
     "metadata": {},
     "output_type": "display_data"
    },
    {
     "name": "stdout",
     "output_type": "stream",
     "text": [
      "决定系数r平方：0.0084\n",
      "微弱相关或不相关\n",
      "p值： 0.3796\n",
      "接受虚无假设\n"
     ]
    }
   ],
   "source": [
    "mytools.两个数值变量的统计分析(数据表,'信息判断能力','生活满意度')"
   ]
  },
  {
   "cell_type": "code",
   "execution_count": 20,
   "metadata": {},
   "outputs": [
    {
     "data": {
      "text/html": [
       "<div>\n",
       "<style scoped>\n",
       "    .dataframe tbody tr th:only-of-type {\n",
       "        vertical-align: middle;\n",
       "    }\n",
       "\n",
       "    .dataframe tbody tr th {\n",
       "        vertical-align: top;\n",
       "    }\n",
       "\n",
       "    .dataframe thead th {\n",
       "        text-align: right;\n",
       "    }\n",
       "</style>\n",
       "<table border=\"1\" class=\"dataframe\">\n",
       "  <thead>\n",
       "    <tr style=\"text-align: right;\">\n",
       "      <th></th>\n",
       "      <th>生活满意度</th>\n",
       "      <th>10.0</th>\n",
       "      <th>14.0</th>\n",
       "      <th>16.0</th>\n",
       "      <th>17.0</th>\n",
       "      <th>18.0</th>\n",
       "      <th>19.0</th>\n",
       "      <th>20.0</th>\n",
       "      <th>21.0</th>\n",
       "      <th>22.0</th>\n",
       "      <th>23.0</th>\n",
       "      <th>...</th>\n",
       "      <th>25.0</th>\n",
       "      <th>26.0</th>\n",
       "      <th>27.0</th>\n",
       "      <th>28.0</th>\n",
       "      <th>29.0</th>\n",
       "      <th>30.0</th>\n",
       "      <th>31.0</th>\n",
       "      <th>32.0</th>\n",
       "      <th>33.0</th>\n",
       "      <th>All</th>\n",
       "    </tr>\n",
       "    <tr>\n",
       "      <th>年龄</th>\n",
       "      <th>工作满意度</th>\n",
       "      <th></th>\n",
       "      <th></th>\n",
       "      <th></th>\n",
       "      <th></th>\n",
       "      <th></th>\n",
       "      <th></th>\n",
       "      <th></th>\n",
       "      <th></th>\n",
       "      <th></th>\n",
       "      <th></th>\n",
       "      <th></th>\n",
       "      <th></th>\n",
       "      <th></th>\n",
       "      <th></th>\n",
       "      <th></th>\n",
       "      <th></th>\n",
       "      <th></th>\n",
       "      <th></th>\n",
       "      <th></th>\n",
       "      <th></th>\n",
       "      <th></th>\n",
       "    </tr>\n",
       "  </thead>\n",
       "  <tbody>\n",
       "    <tr>\n",
       "      <th rowspan=\"2\" valign=\"top\">12.0</th>\n",
       "      <th>-10.0</th>\n",
       "      <td>0.000000</td>\n",
       "      <td>0.000000</td>\n",
       "      <td>0.000000</td>\n",
       "      <td>0.000000</td>\n",
       "      <td>0.000000</td>\n",
       "      <td>0.000000</td>\n",
       "      <td>0.000000</td>\n",
       "      <td>0.000000</td>\n",
       "      <td>0.000000</td>\n",
       "      <td>0.000000</td>\n",
       "      <td>...</td>\n",
       "      <td>0.00000</td>\n",
       "      <td>0.000000</td>\n",
       "      <td>0.000000</td>\n",
       "      <td>0.000000</td>\n",
       "      <td>0.00000</td>\n",
       "      <td>0.010638</td>\n",
       "      <td>0.000000</td>\n",
       "      <td>0.000000</td>\n",
       "      <td>0.000000</td>\n",
       "      <td>0.010638</td>\n",
       "    </tr>\n",
       "    <tr>\n",
       "      <th>20.0</th>\n",
       "      <td>0.000000</td>\n",
       "      <td>0.000000</td>\n",
       "      <td>0.000000</td>\n",
       "      <td>0.000000</td>\n",
       "      <td>0.000000</td>\n",
       "      <td>0.000000</td>\n",
       "      <td>0.010638</td>\n",
       "      <td>0.000000</td>\n",
       "      <td>0.000000</td>\n",
       "      <td>0.000000</td>\n",
       "      <td>...</td>\n",
       "      <td>0.00000</td>\n",
       "      <td>0.000000</td>\n",
       "      <td>0.000000</td>\n",
       "      <td>0.000000</td>\n",
       "      <td>0.00000</td>\n",
       "      <td>0.000000</td>\n",
       "      <td>0.000000</td>\n",
       "      <td>0.000000</td>\n",
       "      <td>0.000000</td>\n",
       "      <td>0.010638</td>\n",
       "    </tr>\n",
       "    <tr>\n",
       "      <th>16.0</th>\n",
       "      <th>-10.0</th>\n",
       "      <td>0.000000</td>\n",
       "      <td>0.000000</td>\n",
       "      <td>0.000000</td>\n",
       "      <td>0.000000</td>\n",
       "      <td>0.010638</td>\n",
       "      <td>0.000000</td>\n",
       "      <td>0.000000</td>\n",
       "      <td>0.000000</td>\n",
       "      <td>0.000000</td>\n",
       "      <td>0.000000</td>\n",
       "      <td>...</td>\n",
       "      <td>0.00000</td>\n",
       "      <td>0.000000</td>\n",
       "      <td>0.000000</td>\n",
       "      <td>0.000000</td>\n",
       "      <td>0.00000</td>\n",
       "      <td>0.000000</td>\n",
       "      <td>0.000000</td>\n",
       "      <td>0.000000</td>\n",
       "      <td>0.000000</td>\n",
       "      <td>0.010638</td>\n",
       "    </tr>\n",
       "    <tr>\n",
       "      <th>17.0</th>\n",
       "      <th>21.0</th>\n",
       "      <td>0.000000</td>\n",
       "      <td>0.000000</td>\n",
       "      <td>0.000000</td>\n",
       "      <td>0.000000</td>\n",
       "      <td>0.000000</td>\n",
       "      <td>0.010638</td>\n",
       "      <td>0.000000</td>\n",
       "      <td>0.000000</td>\n",
       "      <td>0.000000</td>\n",
       "      <td>0.000000</td>\n",
       "      <td>...</td>\n",
       "      <td>0.00000</td>\n",
       "      <td>0.000000</td>\n",
       "      <td>0.000000</td>\n",
       "      <td>0.000000</td>\n",
       "      <td>0.00000</td>\n",
       "      <td>0.000000</td>\n",
       "      <td>0.000000</td>\n",
       "      <td>0.000000</td>\n",
       "      <td>0.000000</td>\n",
       "      <td>0.010638</td>\n",
       "    </tr>\n",
       "    <tr>\n",
       "      <th>18.0</th>\n",
       "      <th>-10.0</th>\n",
       "      <td>0.000000</td>\n",
       "      <td>0.000000</td>\n",
       "      <td>0.000000</td>\n",
       "      <td>0.010638</td>\n",
       "      <td>0.000000</td>\n",
       "      <td>0.000000</td>\n",
       "      <td>0.000000</td>\n",
       "      <td>0.000000</td>\n",
       "      <td>0.000000</td>\n",
       "      <td>0.000000</td>\n",
       "      <td>...</td>\n",
       "      <td>0.00000</td>\n",
       "      <td>0.000000</td>\n",
       "      <td>0.000000</td>\n",
       "      <td>0.000000</td>\n",
       "      <td>0.00000</td>\n",
       "      <td>0.000000</td>\n",
       "      <td>0.000000</td>\n",
       "      <td>0.000000</td>\n",
       "      <td>0.000000</td>\n",
       "      <td>0.010638</td>\n",
       "    </tr>\n",
       "    <tr>\n",
       "      <th>...</th>\n",
       "      <th>...</th>\n",
       "      <td>...</td>\n",
       "      <td>...</td>\n",
       "      <td>...</td>\n",
       "      <td>...</td>\n",
       "      <td>...</td>\n",
       "      <td>...</td>\n",
       "      <td>...</td>\n",
       "      <td>...</td>\n",
       "      <td>...</td>\n",
       "      <td>...</td>\n",
       "      <td>...</td>\n",
       "      <td>...</td>\n",
       "      <td>...</td>\n",
       "      <td>...</td>\n",
       "      <td>...</td>\n",
       "      <td>...</td>\n",
       "      <td>...</td>\n",
       "      <td>...</td>\n",
       "      <td>...</td>\n",
       "      <td>...</td>\n",
       "      <td>...</td>\n",
       "    </tr>\n",
       "    <tr>\n",
       "      <th>75.0</th>\n",
       "      <th>19.0</th>\n",
       "      <td>0.000000</td>\n",
       "      <td>0.000000</td>\n",
       "      <td>0.000000</td>\n",
       "      <td>0.000000</td>\n",
       "      <td>0.000000</td>\n",
       "      <td>0.000000</td>\n",
       "      <td>0.000000</td>\n",
       "      <td>0.000000</td>\n",
       "      <td>0.000000</td>\n",
       "      <td>0.000000</td>\n",
       "      <td>...</td>\n",
       "      <td>0.00000</td>\n",
       "      <td>0.000000</td>\n",
       "      <td>0.010638</td>\n",
       "      <td>0.000000</td>\n",
       "      <td>0.00000</td>\n",
       "      <td>0.000000</td>\n",
       "      <td>0.000000</td>\n",
       "      <td>0.000000</td>\n",
       "      <td>0.000000</td>\n",
       "      <td>0.010638</td>\n",
       "    </tr>\n",
       "    <tr>\n",
       "      <th>77.0</th>\n",
       "      <th>20.0</th>\n",
       "      <td>0.000000</td>\n",
       "      <td>0.000000</td>\n",
       "      <td>0.000000</td>\n",
       "      <td>0.000000</td>\n",
       "      <td>0.000000</td>\n",
       "      <td>0.000000</td>\n",
       "      <td>0.000000</td>\n",
       "      <td>0.000000</td>\n",
       "      <td>0.000000</td>\n",
       "      <td>0.000000</td>\n",
       "      <td>...</td>\n",
       "      <td>0.00000</td>\n",
       "      <td>0.000000</td>\n",
       "      <td>0.000000</td>\n",
       "      <td>0.010638</td>\n",
       "      <td>0.00000</td>\n",
       "      <td>0.000000</td>\n",
       "      <td>0.000000</td>\n",
       "      <td>0.000000</td>\n",
       "      <td>0.000000</td>\n",
       "      <td>0.010638</td>\n",
       "    </tr>\n",
       "    <tr>\n",
       "      <th rowspan=\"2\" valign=\"top\">80.0</th>\n",
       "      <th>30.0</th>\n",
       "      <td>0.000000</td>\n",
       "      <td>0.000000</td>\n",
       "      <td>0.000000</td>\n",
       "      <td>0.000000</td>\n",
       "      <td>0.000000</td>\n",
       "      <td>0.000000</td>\n",
       "      <td>0.000000</td>\n",
       "      <td>0.000000</td>\n",
       "      <td>0.000000</td>\n",
       "      <td>0.000000</td>\n",
       "      <td>...</td>\n",
       "      <td>0.00000</td>\n",
       "      <td>0.000000</td>\n",
       "      <td>0.000000</td>\n",
       "      <td>0.000000</td>\n",
       "      <td>0.00000</td>\n",
       "      <td>0.000000</td>\n",
       "      <td>0.010638</td>\n",
       "      <td>0.000000</td>\n",
       "      <td>0.000000</td>\n",
       "      <td>0.010638</td>\n",
       "    </tr>\n",
       "    <tr>\n",
       "      <th>31.0</th>\n",
       "      <td>0.000000</td>\n",
       "      <td>0.000000</td>\n",
       "      <td>0.000000</td>\n",
       "      <td>0.000000</td>\n",
       "      <td>0.000000</td>\n",
       "      <td>0.000000</td>\n",
       "      <td>0.000000</td>\n",
       "      <td>0.000000</td>\n",
       "      <td>0.000000</td>\n",
       "      <td>0.000000</td>\n",
       "      <td>...</td>\n",
       "      <td>0.00000</td>\n",
       "      <td>0.000000</td>\n",
       "      <td>0.000000</td>\n",
       "      <td>0.010638</td>\n",
       "      <td>0.00000</td>\n",
       "      <td>0.000000</td>\n",
       "      <td>0.000000</td>\n",
       "      <td>0.000000</td>\n",
       "      <td>0.000000</td>\n",
       "      <td>0.010638</td>\n",
       "    </tr>\n",
       "    <tr>\n",
       "      <th>All</th>\n",
       "      <th></th>\n",
       "      <td>0.021277</td>\n",
       "      <td>0.010638</td>\n",
       "      <td>0.021277</td>\n",
       "      <td>0.021277</td>\n",
       "      <td>0.031915</td>\n",
       "      <td>0.021277</td>\n",
       "      <td>0.042553</td>\n",
       "      <td>0.021277</td>\n",
       "      <td>0.021277</td>\n",
       "      <td>0.021277</td>\n",
       "      <td>...</td>\n",
       "      <td>0.06383</td>\n",
       "      <td>0.085106</td>\n",
       "      <td>0.095745</td>\n",
       "      <td>0.170213</td>\n",
       "      <td>0.06383</td>\n",
       "      <td>0.127660</td>\n",
       "      <td>0.053191</td>\n",
       "      <td>0.021277</td>\n",
       "      <td>0.010638</td>\n",
       "      <td>1.000000</td>\n",
       "    </tr>\n",
       "  </tbody>\n",
       "</table>\n",
       "<p>90 rows × 21 columns</p>\n",
       "</div>"
      ],
      "text/plain": [
       "生活满意度           10.0      14.0      16.0      17.0      18.0      19.0  \\\n",
       "年龄   工作满意度                                                               \n",
       "12.0 -10.0  0.000000  0.000000  0.000000  0.000000  0.000000  0.000000   \n",
       "     20.0   0.000000  0.000000  0.000000  0.000000  0.000000  0.000000   \n",
       "16.0 -10.0  0.000000  0.000000  0.000000  0.000000  0.010638  0.000000   \n",
       "17.0 21.0   0.000000  0.000000  0.000000  0.000000  0.000000  0.010638   \n",
       "18.0 -10.0  0.000000  0.000000  0.000000  0.010638  0.000000  0.000000   \n",
       "...              ...       ...       ...       ...       ...       ...   \n",
       "75.0 19.0   0.000000  0.000000  0.000000  0.000000  0.000000  0.000000   \n",
       "77.0 20.0   0.000000  0.000000  0.000000  0.000000  0.000000  0.000000   \n",
       "80.0 30.0   0.000000  0.000000  0.000000  0.000000  0.000000  0.000000   \n",
       "     31.0   0.000000  0.000000  0.000000  0.000000  0.000000  0.000000   \n",
       "All         0.021277  0.010638  0.021277  0.021277  0.031915  0.021277   \n",
       "\n",
       "生活满意度           20.0      21.0      22.0      23.0  ...     25.0      26.0  \\\n",
       "年龄   工作满意度                                          ...                      \n",
       "12.0 -10.0  0.000000  0.000000  0.000000  0.000000  ...  0.00000  0.000000   \n",
       "     20.0   0.010638  0.000000  0.000000  0.000000  ...  0.00000  0.000000   \n",
       "16.0 -10.0  0.000000  0.000000  0.000000  0.000000  ...  0.00000  0.000000   \n",
       "17.0 21.0   0.000000  0.000000  0.000000  0.000000  ...  0.00000  0.000000   \n",
       "18.0 -10.0  0.000000  0.000000  0.000000  0.000000  ...  0.00000  0.000000   \n",
       "...              ...       ...       ...       ...  ...      ...       ...   \n",
       "75.0 19.0   0.000000  0.000000  0.000000  0.000000  ...  0.00000  0.000000   \n",
       "77.0 20.0   0.000000  0.000000  0.000000  0.000000  ...  0.00000  0.000000   \n",
       "80.0 30.0   0.000000  0.000000  0.000000  0.000000  ...  0.00000  0.000000   \n",
       "     31.0   0.000000  0.000000  0.000000  0.000000  ...  0.00000  0.000000   \n",
       "All         0.042553  0.021277  0.021277  0.021277  ...  0.06383  0.085106   \n",
       "\n",
       "生活满意度           27.0      28.0     29.0      30.0      31.0      32.0  \\\n",
       "年龄   工作满意度                                                              \n",
       "12.0 -10.0  0.000000  0.000000  0.00000  0.010638  0.000000  0.000000   \n",
       "     20.0   0.000000  0.000000  0.00000  0.000000  0.000000  0.000000   \n",
       "16.0 -10.0  0.000000  0.000000  0.00000  0.000000  0.000000  0.000000   \n",
       "17.0 21.0   0.000000  0.000000  0.00000  0.000000  0.000000  0.000000   \n",
       "18.0 -10.0  0.000000  0.000000  0.00000  0.000000  0.000000  0.000000   \n",
       "...              ...       ...      ...       ...       ...       ...   \n",
       "75.0 19.0   0.010638  0.000000  0.00000  0.000000  0.000000  0.000000   \n",
       "77.0 20.0   0.000000  0.010638  0.00000  0.000000  0.000000  0.000000   \n",
       "80.0 30.0   0.000000  0.000000  0.00000  0.000000  0.010638  0.000000   \n",
       "     31.0   0.000000  0.010638  0.00000  0.000000  0.000000  0.000000   \n",
       "All         0.095745  0.170213  0.06383  0.127660  0.053191  0.021277   \n",
       "\n",
       "生活满意度           33.0       All  \n",
       "年龄   工作满意度                      \n",
       "12.0 -10.0  0.000000  0.010638  \n",
       "     20.0   0.000000  0.010638  \n",
       "16.0 -10.0  0.000000  0.010638  \n",
       "17.0 21.0   0.000000  0.010638  \n",
       "18.0 -10.0  0.000000  0.010638  \n",
       "...              ...       ...  \n",
       "75.0 19.0   0.000000  0.010638  \n",
       "77.0 20.0   0.000000  0.010638  \n",
       "80.0 30.0   0.000000  0.010638  \n",
       "     31.0   0.000000  0.010638  \n",
       "All         0.010638  1.000000  \n",
       "\n",
       "[90 rows x 21 columns]"
      ]
     },
     "execution_count": 20,
     "metadata": {},
     "output_type": "execute_result"
    }
   ],
   "source": [
    "#多变量数据分析\n",
    "# 创建年龄、工作满意度和生活满意度的交互表\n",
    "cross_tab = pd.crosstab(index=[数据表['年龄'], 数据表['工作满意度']], \n",
    "columns=数据表['生活满意度'], \n",
    "margins=True, normalize=True) # All 行和列的总和\n",
    "\n",
    "cross_tab"
   ]
  },
  {
   "cell_type": "code",
   "execution_count": 21,
   "metadata": {},
   "outputs": [],
   "source": [
    "import pyreadstat\n",
    "df,meta =pyreadstat.read_sav('demo.sav' )\n",
    "df.to_csv('demo.csv',index=False)\n",
    "df=pd.read_csv('demo.csv')\n",
    "df.to_excel('demo.xlsx',index=False)"
   ]
  },
  {
   "cell_type": "code",
   "execution_count": 22,
   "metadata": {},
   "outputs": [
    {
     "data": {
      "text/html": [
       "<div>\n",
       "<style scoped>\n",
       "    .dataframe tbody tr th:only-of-type {\n",
       "        vertical-align: middle;\n",
       "    }\n",
       "\n",
       "    .dataframe tbody tr th {\n",
       "        vertical-align: top;\n",
       "    }\n",
       "\n",
       "    .dataframe thead th {\n",
       "        text-align: right;\n",
       "    }\n",
       "</style>\n",
       "<table border=\"1\" class=\"dataframe\">\n",
       "  <thead>\n",
       "    <tr style=\"text-align: right;\">\n",
       "      <th></th>\n",
       "      <th>序号</th>\n",
       "      <th>@1、您的性别：</th>\n",
       "      <th>@2、您的年龄：</th>\n",
       "      <th>@3、您的婚姻状况：</th>\n",
       "      <th>@4、您的受教育程度是：</th>\n",
       "      <th>@5、您的政治面貌：</th>\n",
       "      <th>@7、您的信仰是：</th>\n",
       "      <th>@8、您的职业是：</th>\n",
       "      <th>@9、您的月收入大约是多少？</th>\n",
       "      <th>@10、1您家里有</th>\n",
       "      <th>...</th>\n",
       "      <th>@27、调研地点</th>\n",
       "      <th>@28、问卷编号</th>\n",
       "      <th>@30、问卷录入过程中其他需要说明的问题（若没</th>\n",
       "      <th>年龄段</th>\n",
       "      <th>每周上网时长</th>\n",
       "      <th>生活满意度</th>\n",
       "      <th>生活满意度区间</th>\n",
       "      <th>工作满意度</th>\n",
       "      <th>工作满意度区间</th>\n",
       "      <th>自尊</th>\n",
       "    </tr>\n",
       "  </thead>\n",
       "  <tbody>\n",
       "    <tr>\n",
       "      <th>0</th>\n",
       "      <td>94</td>\n",
       "      <td>1</td>\n",
       "      <td>58.0</td>\n",
       "      <td>-2</td>\n",
       "      <td>1</td>\n",
       "      <td>1</td>\n",
       "      <td>2</td>\n",
       "      <td>2</td>\n",
       "      <td>NaN</td>\n",
       "      <td>NaN</td>\n",
       "      <td>...</td>\n",
       "      <td>郭卓村</td>\n",
       "      <td>GZ04</td>\n",
       "      <td>(空)</td>\n",
       "      <td>5.0</td>\n",
       "      <td>NaN</td>\n",
       "      <td>24</td>\n",
       "      <td>3</td>\n",
       "      <td>25</td>\n",
       "      <td>3</td>\n",
       "      <td>30</td>\n",
       "    </tr>\n",
       "    <tr>\n",
       "      <th>1</th>\n",
       "      <td>30</td>\n",
       "      <td>1</td>\n",
       "      <td>45.0</td>\n",
       "      <td>2</td>\n",
       "      <td>1</td>\n",
       "      <td>1</td>\n",
       "      <td>2</td>\n",
       "      <td>2</td>\n",
       "      <td>NaN</td>\n",
       "      <td>NaN</td>\n",
       "      <td>...</td>\n",
       "      <td>唐尕村</td>\n",
       "      <td>TG30</td>\n",
       "      <td>无</td>\n",
       "      <td>4.0</td>\n",
       "      <td>NaN</td>\n",
       "      <td>26</td>\n",
       "      <td>2</td>\n",
       "      <td>26</td>\n",
       "      <td>2</td>\n",
       "      <td>30</td>\n",
       "    </tr>\n",
       "    <tr>\n",
       "      <th>2</th>\n",
       "      <td>31</td>\n",
       "      <td>1</td>\n",
       "      <td>48.0</td>\n",
       "      <td>2</td>\n",
       "      <td>1</td>\n",
       "      <td>1</td>\n",
       "      <td>2</td>\n",
       "      <td>2</td>\n",
       "      <td>NaN</td>\n",
       "      <td>NaN</td>\n",
       "      <td>...</td>\n",
       "      <td>唐尕村</td>\n",
       "      <td>TG31</td>\n",
       "      <td>无</td>\n",
       "      <td>4.0</td>\n",
       "      <td>NaN</td>\n",
       "      <td>29</td>\n",
       "      <td>2</td>\n",
       "      <td>27</td>\n",
       "      <td>2</td>\n",
       "      <td>30</td>\n",
       "    </tr>\n",
       "    <tr>\n",
       "      <th>3</th>\n",
       "      <td>93</td>\n",
       "      <td>1</td>\n",
       "      <td>74.0</td>\n",
       "      <td>2</td>\n",
       "      <td>2</td>\n",
       "      <td>2</td>\n",
       "      <td>2</td>\n",
       "      <td>6</td>\n",
       "      <td>NaN</td>\n",
       "      <td>NaN</td>\n",
       "      <td>...</td>\n",
       "      <td>郭卓村</td>\n",
       "      <td>GZ03</td>\n",
       "      <td>(空)</td>\n",
       "      <td>6.0</td>\n",
       "      <td>0.000000</td>\n",
       "      <td>33</td>\n",
       "      <td>1</td>\n",
       "      <td>32</td>\n",
       "      <td>1</td>\n",
       "      <td>35</td>\n",
       "    </tr>\n",
       "    <tr>\n",
       "      <th>4</th>\n",
       "      <td>76</td>\n",
       "      <td>1</td>\n",
       "      <td>31.0</td>\n",
       "      <td>2</td>\n",
       "      <td>2</td>\n",
       "      <td>1</td>\n",
       "      <td>2</td>\n",
       "      <td>2</td>\n",
       "      <td>NaN</td>\n",
       "      <td>7.0</td>\n",
       "      <td>...</td>\n",
       "      <td>龙多村</td>\n",
       "      <td>LD02</td>\n",
       "      <td>无</td>\n",
       "      <td>3.0</td>\n",
       "      <td>9.333333</td>\n",
       "      <td>25</td>\n",
       "      <td>3</td>\n",
       "      <td>25</td>\n",
       "      <td>3</td>\n",
       "      <td>29</td>\n",
       "    </tr>\n",
       "  </tbody>\n",
       "</table>\n",
       "<p>5 rows × 89 columns</p>\n",
       "</div>"
      ],
      "text/plain": [
       "   序号  @1、您的性别：  @2、您的年龄：  @3、您的婚姻状况：  @4、您的受教育程度是：  @5、您的政治面貌：  @7、您的信仰是：  \\\n",
       "0  94         1      58.0          -2             1           1          2   \n",
       "1  30         1      45.0           2             1           1          2   \n",
       "2  31         1      48.0           2             1           1          2   \n",
       "3  93         1      74.0           2             2           2          2   \n",
       "4  76         1      31.0           2             2           1          2   \n",
       "\n",
       "   @8、您的职业是：  @9、您的月收入大约是多少？  @10、1您家里有  ... @27、调研地点 @28、问卷编号  \\\n",
       "0          2             NaN        NaN  ...      郭卓村     GZ04   \n",
       "1          2             NaN        NaN  ...      唐尕村     TG30   \n",
       "2          2             NaN        NaN  ...      唐尕村     TG31   \n",
       "3          6             NaN        NaN  ...      郭卓村     GZ03   \n",
       "4          2             NaN        7.0  ...      龙多村     LD02   \n",
       "\n",
       "  @30、问卷录入过程中其他需要说明的问题（若没  年龄段    每周上网时长  生活满意度  生活满意度区间  工作满意度  工作满意度区间  自尊  \n",
       "0                     (空)  5.0       NaN     24        3     25        3  30  \n",
       "1                       无  4.0       NaN     26        2     26        2  30  \n",
       "2                       无  4.0       NaN     29        2     27        2  30  \n",
       "3                     (空)  6.0  0.000000     33        1     32        1  35  \n",
       "4                       无  3.0  9.333333     25        3     25        3  29  \n",
       "\n",
       "[5 rows x 89 columns]"
      ]
     },
     "execution_count": 22,
     "metadata": {},
     "output_type": "execute_result"
    }
   ],
   "source": [
    "file_path='demo.xlsx'\n",
    "data=pd.read_excel(file_path) \n",
    "data.head()"
   ]
  },
  {
   "cell_type": "code",
   "execution_count": 28,
   "metadata": {},
   "outputs": [
    {
     "data": {
      "text/html": [
       "<table class=\"simpletable\">\n",
       "<caption>OLS Regression Results</caption>\n",
       "<tr>\n",
       "  <th>Dep. Variable:</th>          <td>工作满意度</td>      <th>  R-squared:         </th> <td>   1.000</td> \n",
       "</tr>\n",
       "<tr>\n",
       "  <th>Model:</th>                   <td>OLS</td>       <th>  Adj. R-squared:    </th> <td>   1.000</td> \n",
       "</tr>\n",
       "<tr>\n",
       "  <th>Method:</th>             <td>Least Squares</td>  <th>  F-statistic:       </th> <td>4.642e+30</td>\n",
       "</tr>\n",
       "<tr>\n",
       "  <th>Date:</th>             <td>Thu, 04 Jan 2024</td> <th>  Prob (F-statistic):</th>  <td>  0.00</td>  \n",
       "</tr>\n",
       "<tr>\n",
       "  <th>Time:</th>                 <td>15:28:47</td>     <th>  Log-Likelihood:    </th> <td>  2826.2</td> \n",
       "</tr>\n",
       "<tr>\n",
       "  <th>No. Observations:</th>      <td>    94</td>      <th>  AIC:               </th> <td>  -5644.</td> \n",
       "</tr>\n",
       "<tr>\n",
       "  <th>Df Residuals:</th>          <td>    90</td>      <th>  BIC:               </th> <td>  -5634.</td> \n",
       "</tr>\n",
       "<tr>\n",
       "  <th>Df Model:</th>              <td>     3</td>      <th>                     </th>     <td> </td>    \n",
       "</tr>\n",
       "<tr>\n",
       "  <th>Covariance Type:</th>      <td>nonrobust</td>    <th>                     </th>     <td> </td>    \n",
       "</tr>\n",
       "</table>\n",
       "<table class=\"simpletable\">\n",
       "<tr>\n",
       "    <td></td>       <th>coef</th>     <th>std err</th>      <th>t</th>      <th>P>|t|</th>  <th>[0.025</th>    <th>0.975]</th>  \n",
       "</tr>\n",
       "<tr>\n",
       "  <th>const</th> <td> 1.776e-14</td> <td> 2.97e-14</td> <td>    0.597</td> <td> 0.552</td> <td>-4.13e-14</td> <td> 7.69e-14</td>\n",
       "</tr>\n",
       "<tr>\n",
       "  <th>生活满意度</th> <td>-7.633e-16</td> <td> 5.87e-16</td> <td>   -1.300</td> <td> 0.197</td> <td>-1.93e-15</td> <td> 4.03e-16</td>\n",
       "</tr>\n",
       "<tr>\n",
       "  <th>工作满意度</th> <td>    1.0000</td> <td> 2.85e-16</td> <td> 3.51e+15</td> <td> 0.000</td> <td>    1.000</td> <td>    1.000</td>\n",
       "</tr>\n",
       "<tr>\n",
       "  <th>自尊</th>    <td> 1.166e-15</td> <td> 1.24e-15</td> <td>    0.942</td> <td> 0.349</td> <td>-1.29e-15</td> <td> 3.62e-15</td>\n",
       "</tr>\n",
       "</table>\n",
       "<table class=\"simpletable\">\n",
       "<tr>\n",
       "  <th>Omnibus:</th>       <td>41.251</td> <th>  Durbin-Watson:     </th> <td>   0.105</td>\n",
       "</tr>\n",
       "<tr>\n",
       "  <th>Prob(Omnibus):</th> <td> 0.000</td> <th>  Jarque-Bera (JB):  </th> <td> 100.430</td>\n",
       "</tr>\n",
       "<tr>\n",
       "  <th>Skew:</th>          <td>-1.610</td> <th>  Prob(JB):          </th> <td>1.56e-22</td>\n",
       "</tr>\n",
       "<tr>\n",
       "  <th>Kurtosis:</th>      <td> 6.908</td> <th>  Cond. No.          </th> <td>    619.</td>\n",
       "</tr>\n",
       "</table><br/><br/>Notes:<br/>[1] Standard Errors assume that the covariance matrix of the errors is correctly specified."
      ],
      "text/latex": [
       "\\begin{center}\n",
       "\\begin{tabular}{lclc}\n",
       "\\toprule\n",
       "\\textbf{Dep. Variable:}    &      工作满意度       & \\textbf{  R-squared:         } &     1.000   \\\\\n",
       "\\textbf{Model:}            &       OLS        & \\textbf{  Adj. R-squared:    } &     1.000   \\\\\n",
       "\\textbf{Method:}           &  Least Squares   & \\textbf{  F-statistic:       } & 4.642e+30   \\\\\n",
       "\\textbf{Date:}             & Thu, 04 Jan 2024 & \\textbf{  Prob (F-statistic):} &     0.00    \\\\\n",
       "\\textbf{Time:}             &     15:28:47     & \\textbf{  Log-Likelihood:    } &    2826.2   \\\\\n",
       "\\textbf{No. Observations:} &          94      & \\textbf{  AIC:               } &    -5644.   \\\\\n",
       "\\textbf{Df Residuals:}     &          90      & \\textbf{  BIC:               } &    -5634.   \\\\\n",
       "\\textbf{Df Model:}         &           3      & \\textbf{                     } &             \\\\\n",
       "\\textbf{Covariance Type:}  &    nonrobust     & \\textbf{                     } &             \\\\\n",
       "\\bottomrule\n",
       "\\end{tabular}\n",
       "\\begin{tabular}{lcccccc}\n",
       "               & \\textbf{coef} & \\textbf{std err} & \\textbf{t} & \\textbf{P$> |$t$|$} & \\textbf{[0.025} & \\textbf{0.975]}  \\\\\n",
       "\\midrule\n",
       "\\textbf{const} &    1.776e-14  &     2.97e-14     &     0.597  &         0.552        &    -4.13e-14    &     7.69e-14     \\\\\n",
       "\\textbf{生活满意度} &   -7.633e-16  &     5.87e-16     &    -1.300  &         0.197        &    -1.93e-15    &     4.03e-16     \\\\\n",
       "\\textbf{工作满意度} &       1.0000  &     2.85e-16     &  3.51e+15  &         0.000        &        1.000    &        1.000     \\\\\n",
       "\\textbf{自尊}    &    1.166e-15  &     1.24e-15     &     0.942  &         0.349        &    -1.29e-15    &     3.62e-15     \\\\\n",
       "\\bottomrule\n",
       "\\end{tabular}\n",
       "\\begin{tabular}{lclc}\n",
       "\\textbf{Omnibus:}       & 41.251 & \\textbf{  Durbin-Watson:     } &    0.105  \\\\\n",
       "\\textbf{Prob(Omnibus):} &  0.000 & \\textbf{  Jarque-Bera (JB):  } &  100.430  \\\\\n",
       "\\textbf{Skew:}          & -1.610 & \\textbf{  Prob(JB):          } & 1.56e-22  \\\\\n",
       "\\textbf{Kurtosis:}      &  6.908 & \\textbf{  Cond. No.          } &     619.  \\\\\n",
       "\\bottomrule\n",
       "\\end{tabular}\n",
       "%\\caption{OLS Regression Results}\n",
       "\\end{center}\n",
       "\n",
       "Notes: \\newline\n",
       " [1] Standard Errors assume that the covariance matrix of the errors is correctly specified."
      ],
      "text/plain": [
       "<class 'statsmodels.iolib.summary.Summary'>\n",
       "\"\"\"\n",
       "                            OLS Regression Results                            \n",
       "==============================================================================\n",
       "Dep. Variable:                  工作满意度   R-squared:                       1.000\n",
       "Model:                            OLS   Adj. R-squared:                  1.000\n",
       "Method:                 Least Squares   F-statistic:                 4.642e+30\n",
       "Date:                Thu, 04 Jan 2024   Prob (F-statistic):               0.00\n",
       "Time:                        15:28:47   Log-Likelihood:                 2826.2\n",
       "No. Observations:                  94   AIC:                            -5644.\n",
       "Df Residuals:                      90   BIC:                            -5634.\n",
       "Df Model:                           3                                         \n",
       "Covariance Type:            nonrobust                                         \n",
       "==============================================================================\n",
       "                 coef    std err          t      P>|t|      [0.025      0.975]\n",
       "------------------------------------------------------------------------------\n",
       "const       1.776e-14   2.97e-14      0.597      0.552   -4.13e-14    7.69e-14\n",
       "生活满意度      -7.633e-16   5.87e-16     -1.300      0.197   -1.93e-15    4.03e-16\n",
       "工作满意度          1.0000   2.85e-16   3.51e+15      0.000       1.000       1.000\n",
       "自尊          1.166e-15   1.24e-15      0.942      0.349   -1.29e-15    3.62e-15\n",
       "==============================================================================\n",
       "Omnibus:                       41.251   Durbin-Watson:                   0.105\n",
       "Prob(Omnibus):                  0.000   Jarque-Bera (JB):              100.430\n",
       "Skew:                          -1.610   Prob(JB):                     1.56e-22\n",
       "Kurtosis:                       6.908   Cond. No.                         619.\n",
       "==============================================================================\n",
       "\n",
       "Notes:\n",
       "[1] Standard Errors assume that the covariance matrix of the errors is correctly specified.\n",
       "\"\"\""
      ]
     },
     "execution_count": 28,
     "metadata": {},
     "output_type": "execute_result"
    }
   ],
   "source": [
    "import statsmodels.api as sm  \n",
    "specified_variables = ['生活满意度', '工作满意度', '自尊']  \n",
    "x_specified = data[specified_variables]  \n",
    "y = data['工作满意度']  \n",
    "  \n",
    "# 多元线性回归    \n",
    "x_specified_with_constant = sm.add_constant(x_specified)  # 添加常数项    \n",
    "model_specified = sm.OLS(y, x_specified_with_constant).fit()    \n",
    "# 显示回归结果    \n",
    "model_specified_summary = model_specified.summary()\n",
    "model_specified_summary"
   ]
  },
  {
   "cell_type": "code",
   "execution_count": 30,
   "metadata": {},
   "outputs": [
    {
     "name": "stdout",
     "output_type": "stream",
     "text": [
      "+----+---------+-------+-------------+\n",
      "|    | Name    |   Age | City        |\n",
      "|----+---------+-------+-------------|\n",
      "|  0 | Alice   |    25 | New York    |\n",
      "|  1 | Bob     |    30 | Los Angeles |\n",
      "|  2 | Charlie |    35 | Chicago     |\n",
      "+----+---------+-------+-------------+\n"
     ]
    }
   ],
   "source": [
    "import pandas as pd\n",
    "from tabulate import tabulate\n",
    "\n",
    "# 创建一个示例 DataFrame\n",
    "data = {'Name': ['Alice', 'Bob', 'Charlie'],\n",
    "        'Age': [25, 30, 35],\n",
    "        'City': ['New York', 'Los Angeles', 'Chicago']}\n",
    "df = pd.DataFrame(data)\n",
    "\n",
    "# 使用 tabulate 打印 DataFrame\n",
    "print(tabulate(df, headers='keys', tablefmt='psql'))"
   ]
  }
 ],
 "metadata": {
  "kernelspec": {
   "display_name": "Python 3",
   "language": "python",
   "name": "python3"
  },
  "language_info": {
   "codemirror_mode": {
    "name": "ipython",
    "version": 3
   },
   "file_extension": ".py",
   "mimetype": "text/x-python",
   "name": "python",
   "nbconvert_exporter": "python",
   "pygments_lexer": "ipython3",
   "version": "3.8.10"
  }
 },
 "nbformat": 4,
 "nbformat_minor": 2
}
