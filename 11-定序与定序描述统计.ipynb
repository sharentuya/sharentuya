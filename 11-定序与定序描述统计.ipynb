{
 "cells": [
  {
   "cell_type": "code",
   "execution_count": 1,
   "metadata": {},
   "outputs": [],
   "source": [
    "# 双变量描述统计指标是相关系数，相关系数有很多种。选择标准有三：\n",
    "# 1. 测量层次\n",
    "# 2. 是否对称\n",
    "# 3. 是否具有消除误差比例的意义\n",
    "\n",
    "# 定序与定序变量的相关系数很多，优先选择Tau_y系数。"
   ]
  },
  {
   "cell_type": "code",
   "execution_count": 2,
   "metadata": {},
   "outputs": [],
   "source": [
    "import mytools\n",
    "# import pandas as pd\n",
    "# from pyreadstat import pyreadstat\n",
    "国家认同原始数据, meta = mytools.读取SPSS数据(R'data/identity.sav')"
   ]
  },
  {
   "cell_type": "code",
   "execution_count": 3,
   "metadata": {},
   "outputs": [
    {
     "ename": "AttributeError",
     "evalue": "module 'plotly.express' has no attribute 'crosstab'",
     "output_type": "error",
     "traceback": [
      "\u001b[1;31m---------------------------------------------------------------------------\u001b[0m",
      "\u001b[1;31mAttributeError\u001b[0m                            Traceback (most recent call last)",
      "\u001b[1;32mc:\\Users\\86147\\Desktop\\sharentuya\\11-定序与定序描述统计.ipynb 单元格 3\u001b[0m line \u001b[0;36m1\n\u001b[1;32m----> <a href='vscode-notebook-cell:/c%3A/Users/86147/Desktop/sharentuya/11-%E5%AE%9A%E5%BA%8F%E4%B8%8E%E5%AE%9A%E5%BA%8F%E6%8F%8F%E8%BF%B0%E7%BB%9F%E8%AE%A1.ipynb#W2sZmlsZQ%3D%3D?line=0'>1</a>\u001b[0m tau_y \u001b[39m=\u001b[39m mytools\u001b[39m.\u001b[39;49mgoodmanKruska_tau_y(国家认同原始数据,\u001b[39m'\u001b[39;49m\u001b[39m年级\u001b[39;49m\u001b[39m'\u001b[39;49m,\u001b[39m'\u001b[39;49m\u001b[39m政治面貌\u001b[39;49m\u001b[39m'\u001b[39;49m)\n\u001b[0;32m      <a href='vscode-notebook-cell:/c%3A/Users/86147/Desktop/sharentuya/11-%E5%AE%9A%E5%BA%8F%E4%B8%8E%E5%AE%9A%E5%BA%8F%E6%8F%8F%E8%BF%B0%E7%BB%9F%E8%AE%A1.ipynb#W2sZmlsZQ%3D%3D?line=1'>2</a>\u001b[0m tau_y\n",
      "File \u001b[1;32mc:\\Users\\86147\\Desktop\\sharentuya\\mytools.py:171\u001b[0m, in \u001b[0;36mgoodmanKruska_tau_y\u001b[1;34m(df, x, y)\u001b[0m\n\u001b[0;32m    160\u001b[0m \u001b[39mdef\u001b[39;00m \u001b[39mgoodmanKruska_tau_y\u001b[39m(df, x: \u001b[39mstr\u001b[39m, y: \u001b[39mstr\u001b[39m) \u001b[39m-\u001b[39m\u001b[39m>\u001b[39m \u001b[39mfloat\u001b[39m:\n\u001b[0;32m    161\u001b[0m \u001b[39m    \u001b[39m\u001b[39m\"\"\"\u001b[39;00m\n\u001b[0;32m    162\u001b[0m \u001b[39m    计算两个定类变量的goodmanKruska_tau_y相关系数\u001b[39;00m\n\u001b[0;32m    163\u001b[0m \n\u001b[1;32m   (...)\u001b[0m\n\u001b[0;32m    168\u001b[0m \u001b[39m    函数返回tau_y相关系数\u001b[39;00m\n\u001b[0;32m    169\u001b[0m \u001b[39m    \"\"\"\u001b[39;00m\n\u001b[1;32m--> 171\u001b[0m     cft \u001b[39m=\u001b[39m pd\u001b[39m.\u001b[39;49mcrosstab(df[y], df[x], margins\u001b[39m=\u001b[39m\u001b[39mTrue\u001b[39;00m)\n\u001b[0;32m    172\u001b[0m \u001b[39m    \u001b[39m\u001b[39m\"\"\" 取得全部个案数目 \"\"\"\u001b[39;00m\n\u001b[0;32m    173\u001b[0m     n \u001b[39m=\u001b[39m cft\u001b[39m.\u001b[39mat[\u001b[39m'\u001b[39m\u001b[39mAll\u001b[39m\u001b[39m'\u001b[39m, \u001b[39m'\u001b[39m\u001b[39mAll\u001b[39m\u001b[39m'\u001b[39m]\n",
      "\u001b[1;31mAttributeError\u001b[0m: module 'plotly.express' has no attribute 'crosstab'"
     ]
    }
   ],
   "source": [
    "tau_y = mytools.goodmanKruska_tau_y(国家认同原始数据,'年级','政治面貌')\n",
    "tau_y"
   ]
  },
  {
   "cell_type": "code",
   "execution_count": null,
   "metadata": {},
   "outputs": [
    {
     "data": {
      "text/plain": [
       "'极弱相关或无相关'"
      ]
     },
     "execution_count": 4,
     "metadata": {},
     "output_type": "execute_result"
    }
   ],
   "source": [
    "mytools.相关系数强弱判断(tau_y)"
   ]
  },
  {
   "cell_type": "code",
   "execution_count": null,
   "metadata": {},
   "outputs": [
    {
     "data": {
      "text/html": [
       "<div>\n",
       "<style scoped>\n",
       "    .dataframe tbody tr th:only-of-type {\n",
       "        vertical-align: middle;\n",
       "    }\n",
       "\n",
       "    .dataframe tbody tr th {\n",
       "        vertical-align: top;\n",
       "    }\n",
       "\n",
       "    .dataframe thead th {\n",
       "        text-align: right;\n",
       "    }\n",
       "</style>\n",
       "<table border=\"1\" class=\"dataframe\">\n",
       "  <thead>\n",
       "    <tr style=\"text-align: right;\">\n",
       "      <th>年级</th>\n",
       "      <th>预科</th>\n",
       "      <th>大一</th>\n",
       "      <th>大二</th>\n",
       "      <th>大三</th>\n",
       "      <th>大四</th>\n",
       "      <th>All</th>\n",
       "    </tr>\n",
       "    <tr>\n",
       "      <th>政治面貌</th>\n",
       "      <th></th>\n",
       "      <th></th>\n",
       "      <th></th>\n",
       "      <th></th>\n",
       "      <th></th>\n",
       "      <th></th>\n",
       "    </tr>\n",
       "  </thead>\n",
       "  <tbody>\n",
       "    <tr>\n",
       "      <th>团员</th>\n",
       "      <td>0.928571</td>\n",
       "      <td>0.846906</td>\n",
       "      <td>0.748201</td>\n",
       "      <td>0.546512</td>\n",
       "      <td>0.638298</td>\n",
       "      <td>0.734104</td>\n",
       "    </tr>\n",
       "    <tr>\n",
       "      <th>党员</th>\n",
       "      <td>0.000000</td>\n",
       "      <td>0.048860</td>\n",
       "      <td>0.118705</td>\n",
       "      <td>0.255814</td>\n",
       "      <td>0.223404</td>\n",
       "      <td>0.130636</td>\n",
       "    </tr>\n",
       "    <tr>\n",
       "      <th>群众</th>\n",
       "      <td>0.071429</td>\n",
       "      <td>0.091205</td>\n",
       "      <td>0.107914</td>\n",
       "      <td>0.151163</td>\n",
       "      <td>0.117021</td>\n",
       "      <td>0.110983</td>\n",
       "    </tr>\n",
       "    <tr>\n",
       "      <th>其他</th>\n",
       "      <td>0.000000</td>\n",
       "      <td>0.013029</td>\n",
       "      <td>0.025180</td>\n",
       "      <td>0.046512</td>\n",
       "      <td>0.021277</td>\n",
       "      <td>0.024277</td>\n",
       "    </tr>\n",
       "  </tbody>\n",
       "</table>\n",
       "</div>"
      ],
      "text/plain": [
       "年级          预科        大一        大二        大三        大四       All\n",
       "政治面貌                                                            \n",
       "团员    0.928571  0.846906  0.748201  0.546512  0.638298  0.734104\n",
       "党员    0.000000  0.048860  0.118705  0.255814  0.223404  0.130636\n",
       "群众    0.071429  0.091205  0.107914  0.151163  0.117021  0.110983\n",
       "其他    0.000000  0.013029  0.025180  0.046512  0.021277  0.024277"
      ]
     },
     "execution_count": 5,
     "metadata": {},
     "output_type": "execute_result"
    }
   ],
   "source": [
    "mytools.制作交叉表(国家认同原始数据,'政治面貌','年级')"
   ]
  }
 ],
 "metadata": {
  "kernelspec": {
   "display_name": "Python 3",
   "language": "python",
   "name": "python3"
  },
  "language_info": {
   "codemirror_mode": {
    "name": "ipython",
    "version": 3
   },
   "file_extension": ".py",
   "mimetype": "text/x-python",
   "name": "python",
   "nbconvert_exporter": "python",
   "pygments_lexer": "ipython3",
   "version": "3.8.10"
  }
 },
 "nbformat": 4,
 "nbformat_minor": 2
}
