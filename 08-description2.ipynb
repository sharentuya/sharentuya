{
 "cells": [
  {
   "cell_type": "markdown",
   "metadata": {},
   "source": []
  },
  {
   "cell_type": "code",
   "execution_count": 1,
   "metadata": {},
   "outputs": [],
   "source": [
    "import pandas as pd  \n",
    "from pyreadstat import pyreadstat  \n",
    "df,metadate = pyreadstat.read_sav(r'data/identity.sav',   \n",
    "                                 apply_value_formats=True,   \n",
    "                                 formats_as_ordered_category=True)"
   ]
  },
  {
   "cell_type": "code",
   "execution_count": 2,
   "metadata": {},
   "outputs": [],
   "source": [
    "result = df['会打多少分'].value_counts(sort=False)  \n",
    "df_result = pd.DataFrame(result)  \n",
    "df_result['累计求和'] = result.cumsum()"
   ]
  },
  {
   "cell_type": "code",
   "execution_count": 3,
   "metadata": {},
   "outputs": [],
   "source": [
    "result = df['会打多少分'].value_counts(sort=False)   \n",
    "df_result = pd.DataFrame(result)   \n",
    "sum_value = sum(df_result['count'])  # 对'count'列的所有元素求和  \n",
    "df_result['比例'] = df_result['count'] / sum_value"
   ]
  },
  {
   "cell_type": "code",
   "execution_count": 5,
   "metadata": {},
   "outputs": [
    {
     "ename": "SyntaxError",
     "evalue": "invalid syntax (1380729177.py, line 1)",
     "output_type": "error",
     "traceback": [
      "\u001b[1;36m  Cell \u001b[1;32mIn[5], line 1\u001b[1;36m\u001b[0m\n\u001b[1;33m    result = df['会打多少分']value_counts(sort=False,normalize=True\u001b[0m\n\u001b[1;37m                        ^\u001b[0m\n\u001b[1;31mSyntaxError\u001b[0m\u001b[1;31m:\u001b[0m invalid syntax\n"
     ]
    }
   ],
   "source": [
    "result = df['会打多少分']value_counts(sort=False,normalize=True\n",
    ")"
   ]
  },
  {
   "cell_type": "code",
   "execution_count": null,
   "metadata": {},
   "outputs": [],
   "source": [
    "def 有序变量函数统计表(表名,变量名):\n",
    "    result = 表名[变量名].value_counts(sort=False) \n",
    "    描述统计表 = pd.DataFrame(result)\n",
    "    描述统计表['比例'] = 描述统计表['count'] / 描述统计表['count'].sum()\n",
    "    描述统计表['累计比例']  = 描述统计表['比例'].cumsum()\n",
    "    return 描述统计表\n",
    "     \n",
    "    "
   ]
  },
  {
   "cell_type": "code",
   "execution_count": null,
   "metadata": {},
   "outputs": [
    {
     "ename": "SyntaxError",
     "evalue": "'return' outside function (2213880455.py, line 5)",
     "output_type": "error",
     "traceback": [
      "\u001b[1;36m  Cell \u001b[1;32mIn[13], line 5\u001b[1;36m\u001b[0m\n\u001b[1;33m    return 描述统计表\u001b[0m\n\u001b[1;37m    ^\u001b[0m\n\u001b[1;31mSyntaxError\u001b[0m\u001b[1;31m:\u001b[0m 'return' outside function\n"
     ]
    }
   ],
   "source": [
    "\n"
   ]
  }
 ],
 "metadata": {
  "kernelspec": {
   "display_name": "Python 3",
   "language": "python",
   "name": "python3"
  },
  "language_info": {
   "codemirror_mode": {
    "name": "ipython",
    "version": 3
   },
   "file_extension": ".py",
   "mimetype": "text/x-python",
   "name": "python",
   "nbconvert_exporter": "python",
   "pygments_lexer": "ipython3",
   "version": "3.8.10"
  }
 },
 "nbformat": 4,
 "nbformat_minor": 2
}
