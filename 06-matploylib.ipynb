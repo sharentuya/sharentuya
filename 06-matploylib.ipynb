{
 "cells": [
  {
   "cell_type": "code",
   "execution_count": 2,
   "metadata": {},
   "outputs": [
    {
     "ename": "ModuleNotFoundError",
     "evalue": "No module named 'matplotlib'",
     "output_type": "error",
     "traceback": [
      "\u001b[1;31m---------------------------------------------------------------------------\u001b[0m",
      "\u001b[1;31mModuleNotFoundError\u001b[0m                       Traceback (most recent call last)",
      "\u001b[1;32mc:\\Users\\86147\\Desktop\\sharentuya\\06-matploylib.ipynb 单元格 1\u001b[0m line \u001b[0;36m1\n\u001b[1;32m----> <a href='vscode-notebook-cell:/c%3A/Users/86147/Desktop/sharentuya/06-matploylib.ipynb#W0sZmlsZQ%3D%3D?line=0'>1</a>\u001b[0m \u001b[39mimport\u001b[39;00m \u001b[39mmatplotlib\u001b[39;00m\u001b[39m.\u001b[39;00m\u001b[39mpypot\u001b[39;00m \u001b[39mas\u001b[39;00m \u001b[39mplt\u001b[39;00m\n\u001b[0;32m      <a href='vscode-notebook-cell:/c%3A/Users/86147/Desktop/sharentuya/06-matploylib.ipynb#W0sZmlsZQ%3D%3D?line=1'>2</a>\u001b[0m plt\u001b[39m.\u001b[39mrcParams[\u001b[39m\"\u001b[39m\u001b[39mfont.sana-serif\u001b[39m\u001b[39m\"\u001b[39m]\u001b[39m=\u001b[39m[\u001b[39m\"\u001b[39m\u001b[39mSimHei\u001b[39m\u001b[39m\"\u001b[39m] \u001b[39m#设置字体\u001b[39;00m\n\u001b[0;32m      <a href='vscode-notebook-cell:/c%3A/Users/86147/Desktop/sharentuya/06-matploylib.ipynb#W0sZmlsZQ%3D%3D?line=2'>3</a>\u001b[0m plt\u001b[39m.\u001b[39mrcParams[\u001b[39m\"\u001b[39m\u001b[39mfigure.figsize\u001b[39m\u001b[39m\"\u001b[39m]\u001b[39m=\u001b[39m(\u001b[39m6.4\u001b[39m,\u001b[39m4.8\u001b[39m) \u001b[39m#设置字体，默认为英寸\u001b[39;00m\n",
      "\u001b[1;31mModuleNotFoundError\u001b[0m: No module named 'matplotlib'"
     ]
    }
   ],
   "source": [
    "import matplotlib.pypot as plt\n",
    "plt.rcParams[\"font.sana-serif\"]=[\"SimHei\"] #设置字体\n",
    "plt.rcParams[\"figure.figsize\"]=(6.4,4.8) #设置字体，默认为英寸\n",
    "plt.rcParams[\"axes.unicode_minus\"]=False #该语句解决图像中的“—”负号的乱码问题"
   ]
  }
 ],
 "metadata": {
  "kernelspec": {
   "display_name": "Python 3",
   "language": "python",
   "name": "python3"
  },
  "language_info": {
   "codemirror_mode": {
    "name": "ipython",
    "version": 3
   },
   "file_extension": ".py",
   "mimetype": "text/x-python",
   "name": "python",
   "nbconvert_exporter": "python",
   "pygments_lexer": "ipython3",
   "version": "3.8.10"
  }
 },
 "nbformat": 4,
 "nbformat_minor": 2
}
