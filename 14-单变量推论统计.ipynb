{
 "cells": [
  {
   "cell_type": "code",
   "execution_count": 1,
   "metadata": {},
   "outputs": [
    {
     "name": "stdout",
     "output_type": "stream",
     "text": [
      "均值： 7.20\n",
      "均值在置信水平0.95下的置信区间为： (7.171337577138237, 7.2214184794700635)\n"
     ]
    }
   ],
   "source": [
    "import pandas as pd\n",
    "from scipy import stats\n",
    "# 打开数据文件\n",
    "file_path = R\"data/movie_data_cleaned.csv\"\n",
    "df_movies = pd.read_csv(file_path)\n",
    "# 计算均值和标准误差\n",
    "mean = df_movies['average'].mean()\n",
    "std_error = stats.sem(df_movies['average'])\n",
    "# 设定置信水平\n",
    "confidence_level = 0.95\n",
    "# 设定自由度\n",
    "自由度 = len(df_movies['average']) - 1\n",
    "# 计算置信区间\n",
    "confidence_interval = stats.t.interval(confidence_level, 自由度, loc=mean, scale=std_error)\n",
    "# 输出结果\n",
    "print(F\"均值：{mean: .2f}\")\n",
    "print(F\"均值在置信水平{confidence_level}下的置信区间为：\", confidence_interval)"
   ]
  },
  {
   "cell_type": "code",
   "execution_count": 2,
   "metadata": {},
   "outputs": [
    {
     "ename": "AttributeError",
     "evalue": "module 'mytools' has no attribute '单变量参数估计'",
     "output_type": "error",
     "traceback": [
      "\u001b[1;31m---------------------------------------------------------------------------\u001b[0m",
      "\u001b[1;31mAttributeError\u001b[0m                            Traceback (most recent call last)",
      "\u001b[1;32mc:\\Users\\86147\\Desktop\\sharentuya\\14-单变量推论统计.ipynb 单元格 2\u001b[0m line \u001b[0;36m2\n\u001b[0;32m      <a href='vscode-notebook-cell:/c%3A/Users/86147/Desktop/sharentuya/14-%E5%8D%95%E5%8F%98%E9%87%8F%E6%8E%A8%E8%AE%BA%E7%BB%9F%E8%AE%A1.ipynb#W1sZmlsZQ%3D%3D?line=0'>1</a>\u001b[0m \u001b[39mimport\u001b[39;00m \u001b[39mmytools\u001b[39;00m\n\u001b[1;32m----> <a href='vscode-notebook-cell:/c%3A/Users/86147/Desktop/sharentuya/14-%E5%8D%95%E5%8F%98%E9%87%8F%E6%8E%A8%E8%AE%BA%E7%BB%9F%E8%AE%A1.ipynb#W1sZmlsZQ%3D%3D?line=1'>2</a>\u001b[0m mytools\u001b[39m.\u001b[39;49m单变量参数估计(\u001b[39mR\u001b[39m\u001b[39m\"\u001b[39m\u001b[39mmovie_data_cleaned.csv\u001b[39m\u001b[39m\"\u001b[39m,\u001b[39m0.95\u001b[39m)\n",
      "\u001b[1;31mAttributeError\u001b[0m: module 'mytools' has no attribute '单变量参数估计'"
     ]
    }
   ],
   "source": [
    "import mytools\n",
    "mytools.单变量参数估计(R\"movie_data_cleaned.csv\",0.95)"
   ]
  }
 ],
 "metadata": {
  "kernelspec": {
   "display_name": "Python 3",
   "language": "python",
   "name": "python3"
  },
  "language_info": {
   "codemirror_mode": {
    "name": "ipython",
    "version": 3
   },
   "file_extension": ".py",
   "mimetype": "text/x-python",
   "name": "python",
   "nbconvert_exporter": "python",
   "pygments_lexer": "ipython3",
   "version": "3.8.10"
  }
 },
 "nbformat": 4,
 "nbformat_minor": 2
}
