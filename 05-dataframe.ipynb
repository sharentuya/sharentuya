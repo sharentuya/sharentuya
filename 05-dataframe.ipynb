{
 "cells": [
  {
   "cell_type": "code",
   "execution_count": 42,
   "metadata": {},
   "outputs": [],
   "source": [
    "import numpy as np \n",
    "import pandas as pd "
   ]
  },
  {
   "cell_type": "code",
   "execution_count": 43,
   "metadata": {},
   "outputs": [],
   "source": [
    " \n",
    "data = [2, 4, 6.5, 8]  \n",
    "arr0 = np.array(data)"
   ]
  },
  {
   "cell_type": "code",
   "execution_count": 44,
   "metadata": {},
   "outputs": [],
   "source": [
    "# pandas中的Series数据类型  \n",
    "s = pd.Series([100, 'a', { 'dic1': 5}],  \n",
    "              index=pd.Index(['ide', 20, 'thied'], name='my_idx'),  \n",
    "              dtype='object',  \n",
    "              name='my_name')"
   ]
  },
  {
   "cell_type": "code",
   "execution_count": 45,
   "metadata": {},
   "outputs": [],
   "source": [
    "s2 = pd.Series([\"1\",\"2\",\"3\",\"4\"])"
   ]
  },
  {
   "cell_type": "code",
   "execution_count": 46,
   "metadata": {},
   "outputs": [
    {
     "data": {
      "text/plain": [
       "array([0, 1, 2, 3], dtype=int64)"
      ]
     },
     "execution_count": 46,
     "metadata": {},
     "output_type": "execute_result"
    }
   ],
   "source": [
    "s2.index.values"
   ]
  },
  {
   "cell_type": "code",
   "execution_count": 47,
   "metadata": {},
   "outputs": [
    {
     "data": {
      "text/plain": [
       "str"
      ]
     },
     "execution_count": 47,
     "metadata": {},
     "output_type": "execute_result"
    }
   ],
   "source": [
    "type(s2.values[0])"
   ]
  },
  {
   "cell_type": "code",
   "execution_count": 48,
   "metadata": {},
   "outputs": [
    {
     "data": {
      "text/plain": [
       "(4,)"
      ]
     },
     "execution_count": 48,
     "metadata": {},
     "output_type": "execute_result"
    }
   ],
   "source": [
    "s2.shape"
   ]
  },
  {
   "cell_type": "code",
   "execution_count": 49,
   "metadata": {},
   "outputs": [
    {
     "data": {
      "text/plain": [
       "4"
      ]
     },
     "execution_count": 49,
     "metadata": {},
     "output_type": "execute_result"
    }
   ],
   "source": [
    "s2.size"
   ]
  },
  {
   "cell_type": "code",
   "execution_count": 50,
   "metadata": {},
   "outputs": [],
   "source": [
    "#任务3： 创建DataFrame类型的数据，并获取其索引、值及表大小\n",
    "d1 = {\n",
    "    \"作者\": pd.Series([\"余华\",\"残雪\",\"莫言\"]),\n",
    "    \"作品\": pd.Series([\"活着\",\"茶园\",\"红高粱\"]),\n",
    "    \"价格\": pd.Series([35,72,38]),\n",
    "}\n",
    "df2 = pd.DataFrame(d1)"
   ]
  },
  {
   "cell_type": "code",
   "execution_count": 51,
   "metadata": {},
   "outputs": [
    {
     "data": {
      "text/plain": [
       "array([0, 1, 2], dtype=int64)"
      ]
     },
     "execution_count": 51,
     "metadata": {},
     "output_type": "execute_result"
    }
   ],
   "source": [
    "df2.index.values"
   ]
  },
  {
   "cell_type": "code",
   "execution_count": 52,
   "metadata": {},
   "outputs": [
    {
     "data": {
      "text/plain": [
       "(3, 3)"
      ]
     },
     "execution_count": 52,
     "metadata": {},
     "output_type": "execute_result"
    }
   ],
   "source": [
    "df2.shape"
   ]
  },
  {
   "cell_type": "code",
   "execution_count": 53,
   "metadata": {},
   "outputs": [
    {
     "data": {
      "text/plain": [
       "9"
      ]
     },
     "execution_count": 53,
     "metadata": {},
     "output_type": "execute_result"
    }
   ],
   "source": [
    "df2.size"
   ]
  },
  {
   "cell_type": "code",
   "execution_count": 54,
   "metadata": {},
   "outputs": [],
   "source": [
    "贵州茅台原始数据 = pd.read_csv(R'data\\600519.csv')"
   ]
  },
  {
   "cell_type": "code",
   "execution_count": 55,
   "metadata": {},
   "outputs": [
    {
     "data": {
      "text/plain": [
       "0        1410347008\n",
       "1         463463008\n",
       "2         194689000\n",
       "3         177558000\n",
       "4          86231000\n",
       "           ...     \n",
       "4089     2694714080\n",
       "4090    10663392512\n",
       "4091     5239853056\n",
       "4092     5581027328\n",
       "4093     5227695104\n",
       "Name: TURNOVER, Length: 4094, dtype: int64"
      ]
     },
     "execution_count": 55,
     "metadata": {},
     "output_type": "execute_result"
    }
   ],
   "source": [
    "#  按列数据查询\n",
    "贵州茅台原始数据['TURNOVER']"
   ]
  },
  {
   "cell_type": "code",
   "execution_count": 56,
   "metadata": {},
   "outputs": [
    {
     "data": {
      "text/html": [
       "<div>\n",
       "<style scoped>\n",
       "    .dataframe tbody tr th:only-of-type {\n",
       "        vertical-align: middle;\n",
       "    }\n",
       "\n",
       "    .dataframe tbody tr th {\n",
       "        vertical-align: top;\n",
       "    }\n",
       "\n",
       "    .dataframe thead th {\n",
       "        text-align: right;\n",
       "    }\n",
       "</style>\n",
       "<table border=\"1\" class=\"dataframe\">\n",
       "  <thead>\n",
       "    <tr style=\"text-align: right;\">\n",
       "      <th></th>\n",
       "      <th>TURNOVER</th>\n",
       "      <th>volume</th>\n",
       "    </tr>\n",
       "  </thead>\n",
       "  <tbody>\n",
       "    <tr>\n",
       "      <th>0</th>\n",
       "      <td>1410347008</td>\n",
       "      <td>406318</td>\n",
       "    </tr>\n",
       "    <tr>\n",
       "      <th>1</th>\n",
       "      <td>463463008</td>\n",
       "      <td>129647</td>\n",
       "    </tr>\n",
       "    <tr>\n",
       "      <th>2</th>\n",
       "      <td>194689000</td>\n",
       "      <td>53252</td>\n",
       "    </tr>\n",
       "    <tr>\n",
       "      <th>3</th>\n",
       "      <td>177558000</td>\n",
       "      <td>48013</td>\n",
       "    </tr>\n",
       "    <tr>\n",
       "      <th>4</th>\n",
       "      <td>86231000</td>\n",
       "      <td>23231</td>\n",
       "    </tr>\n",
       "    <tr>\n",
       "      <th>...</th>\n",
       "      <td>...</td>\n",
       "      <td>...</td>\n",
       "    </tr>\n",
       "    <tr>\n",
       "      <th>4089</th>\n",
       "      <td>2694714080</td>\n",
       "      <td>49076</td>\n",
       "    </tr>\n",
       "    <tr>\n",
       "      <th>4090</th>\n",
       "      <td>10663392512</td>\n",
       "      <td>204397</td>\n",
       "    </tr>\n",
       "    <tr>\n",
       "      <th>4091</th>\n",
       "      <td>5239853056</td>\n",
       "      <td>96885</td>\n",
       "    </tr>\n",
       "    <tr>\n",
       "      <th>4092</th>\n",
       "      <td>5581027328</td>\n",
       "      <td>98107</td>\n",
       "    </tr>\n",
       "    <tr>\n",
       "      <th>4093</th>\n",
       "      <td>5227695104</td>\n",
       "      <td>89157</td>\n",
       "    </tr>\n",
       "  </tbody>\n",
       "</table>\n",
       "<p>4094 rows × 2 columns</p>\n",
       "</div>"
      ],
      "text/plain": [
       "         TURNOVER  volume\n",
       "0      1410347008  406318\n",
       "1       463463008  129647\n",
       "2       194689000   53252\n",
       "3       177558000   48013\n",
       "4        86231000   23231\n",
       "...           ...     ...\n",
       "4089   2694714080   49076\n",
       "4090  10663392512  204397\n",
       "4091   5239853056   96885\n",
       "4092   5581027328   98107\n",
       "4093   5227695104   89157\n",
       "\n",
       "[4094 rows x 2 columns]"
      ]
     },
     "execution_count": 56,
     "metadata": {},
     "output_type": "execute_result"
    }
   ],
   "source": [
    "贵州茅台原始数据[['TURNOVER','volume']]"
   ]
  },
  {
   "cell_type": "code",
   "execution_count": 57,
   "metadata": {},
   "outputs": [
    {
     "data": {
      "text/plain": [
       "day           2001-08-27\n",
       "STOCK_CODE       6005191\n",
       "open               34.51\n",
       "close              35.55\n",
       "maximum            37.78\n",
       "minimum            32.85\n",
       "volume            406318\n",
       "TURNOVER      1410347008\n",
       "Name: 0, dtype: object"
      ]
     },
     "execution_count": 57,
     "metadata": {},
     "output_type": "execute_result"
    }
   ],
   "source": [
    "# 按照行索引\n",
    "贵州茅台原始数据.loc[0]"
   ]
  },
  {
   "cell_type": "code",
   "execution_count": 58,
   "metadata": {},
   "outputs": [],
   "source": [
    "贵州茅台 = 贵州茅台原始数据.set_index('day')"
   ]
  },
  {
   "cell_type": "code",
   "execution_count": 59,
   "metadata": {},
   "outputs": [
    {
     "data": {
      "text/plain": [
       "STOCK_CODE    6.005191e+06\n",
       "open          3.451000e+01\n",
       "close         3.555000e+01\n",
       "maximum       3.778000e+01\n",
       "minimum       3.285000e+01\n",
       "volume        4.063180e+05\n",
       "TURNOVER      1.410347e+09\n",
       "Name: 2001-08-27, dtype: float64"
      ]
     },
     "execution_count": 59,
     "metadata": {},
     "output_type": "execute_result"
    }
   ],
   "source": [
    "# loc索引器\n",
    "# 单个元素\n",
    "贵州茅台.loc['2001-08-27']"
   ]
  },
  {
   "cell_type": "code",
   "execution_count": 60,
   "metadata": {},
   "outputs": [
    {
     "data": {
      "text/plain": [
       "close    36.58\n",
       "Name: 2001-10-08, dtype: float64"
      ]
     },
     "execution_count": 60,
     "metadata": {},
     "output_type": "execute_result"
    }
   ],
   "source": [
    "贵州茅台.loc['2001-10-08',['close']]"
   ]
  },
  {
   "cell_type": "code",
   "execution_count": 61,
   "metadata": {},
   "outputs": [
    {
     "data": {
      "text/plain": [
       "open     34.51\n",
       "close    35.55\n",
       "Name: 2001-08-27, dtype: float64"
      ]
     },
     "execution_count": 61,
     "metadata": {},
     "output_type": "execute_result"
    }
   ],
   "source": [
    "贵州茅台.loc['2001-08-27',['open','close']]"
   ]
  },
  {
   "cell_type": "code",
   "execution_count": 62,
   "metadata": {},
   "outputs": [
    {
     "data": {
      "text/plain": [
       "open     37.00\n",
       "close    36.58\n",
       "Name: 2001-10-08, dtype: float64"
      ]
     },
     "execution_count": 62,
     "metadata": {},
     "output_type": "execute_result"
    }
   ],
   "source": [
    "贵州茅台.loc['2001-10-08',['open','close']]"
   ]
  },
  {
   "cell_type": "code",
   "execution_count": 63,
   "metadata": {},
   "outputs": [
    {
     "data": {
      "text/html": [
       "<div>\n",
       "<style scoped>\n",
       "    .dataframe tbody tr th:only-of-type {\n",
       "        vertical-align: middle;\n",
       "    }\n",
       "\n",
       "    .dataframe tbody tr th {\n",
       "        vertical-align: top;\n",
       "    }\n",
       "\n",
       "    .dataframe thead th {\n",
       "        text-align: right;\n",
       "    }\n",
       "</style>\n",
       "<table border=\"1\" class=\"dataframe\">\n",
       "  <thead>\n",
       "    <tr style=\"text-align: right;\">\n",
       "      <th></th>\n",
       "      <th>STOCK_CODE</th>\n",
       "      <th>open</th>\n",
       "      <th>close</th>\n",
       "      <th>maximum</th>\n",
       "      <th>minimum</th>\n",
       "      <th>volume</th>\n",
       "      <th>TURNOVER</th>\n",
       "    </tr>\n",
       "    <tr>\n",
       "      <th>day</th>\n",
       "      <th></th>\n",
       "      <th></th>\n",
       "      <th></th>\n",
       "      <th></th>\n",
       "      <th></th>\n",
       "      <th></th>\n",
       "      <th></th>\n",
       "    </tr>\n",
       "  </thead>\n",
       "  <tbody>\n",
       "  </tbody>\n",
       "</table>\n",
       "</div>"
      ],
      "text/plain": [
       "Empty DataFrame\n",
       "Columns: [STOCK_CODE, open, close, maximum, minimum, volume, TURNOVER]\n",
       "Index: []"
      ]
     },
     "execution_count": 63,
     "metadata": {},
     "output_type": "execute_result"
    }
   ],
   "source": [
    "贵州茅台.loc['2001-8-27':'2001-10-08']"
   ]
  },
  {
   "cell_type": "code",
   "execution_count": 64,
   "metadata": {},
   "outputs": [
    {
     "data": {
      "text/html": [
       "<div>\n",
       "<style scoped>\n",
       "    .dataframe tbody tr th:only-of-type {\n",
       "        vertical-align: middle;\n",
       "    }\n",
       "\n",
       "    .dataframe tbody tr th {\n",
       "        vertical-align: top;\n",
       "    }\n",
       "\n",
       "    .dataframe thead th {\n",
       "        text-align: right;\n",
       "    }\n",
       "</style>\n",
       "<table border=\"1\" class=\"dataframe\">\n",
       "  <thead>\n",
       "    <tr style=\"text-align: right;\">\n",
       "      <th></th>\n",
       "      <th>STOCK_CODE</th>\n",
       "      <th>open</th>\n",
       "      <th>close</th>\n",
       "      <th>maximum</th>\n",
       "      <th>minimum</th>\n",
       "      <th>volume</th>\n",
       "      <th>TURNOVER</th>\n",
       "    </tr>\n",
       "    <tr>\n",
       "      <th>day</th>\n",
       "      <th></th>\n",
       "      <th></th>\n",
       "      <th></th>\n",
       "      <th></th>\n",
       "      <th></th>\n",
       "      <th></th>\n",
       "      <th></th>\n",
       "    </tr>\n",
       "  </thead>\n",
       "  <tbody>\n",
       "    <tr>\n",
       "      <th>2001-08-27</th>\n",
       "      <td>6005191</td>\n",
       "      <td>34.51</td>\n",
       "      <td>35.55</td>\n",
       "      <td>37.78</td>\n",
       "      <td>32.85</td>\n",
       "      <td>406318</td>\n",
       "      <td>1410347008</td>\n",
       "    </tr>\n",
       "    <tr>\n",
       "      <th>2001-08-28</th>\n",
       "      <td>6005191</td>\n",
       "      <td>34.99</td>\n",
       "      <td>36.86</td>\n",
       "      <td>37.00</td>\n",
       "      <td>34.61</td>\n",
       "      <td>129647</td>\n",
       "      <td>463463008</td>\n",
       "    </tr>\n",
       "    <tr>\n",
       "      <th>2001-08-29</th>\n",
       "      <td>6005191</td>\n",
       "      <td>36.98</td>\n",
       "      <td>36.38</td>\n",
       "      <td>37.00</td>\n",
       "      <td>36.10</td>\n",
       "      <td>53252</td>\n",
       "      <td>194689000</td>\n",
       "    </tr>\n",
       "    <tr>\n",
       "      <th>2001-08-30</th>\n",
       "      <td>6005191</td>\n",
       "      <td>36.28</td>\n",
       "      <td>37.10</td>\n",
       "      <td>37.51</td>\n",
       "      <td>36.00</td>\n",
       "      <td>48013</td>\n",
       "      <td>177558000</td>\n",
       "    </tr>\n",
       "    <tr>\n",
       "      <th>2001-08-31</th>\n",
       "      <td>6005191</td>\n",
       "      <td>37.15</td>\n",
       "      <td>37.01</td>\n",
       "      <td>37.62</td>\n",
       "      <td>36.80</td>\n",
       "      <td>23231</td>\n",
       "      <td>86231000</td>\n",
       "    </tr>\n",
       "    <tr>\n",
       "      <th>2001-09-03</th>\n",
       "      <td>6005191</td>\n",
       "      <td>37.20</td>\n",
       "      <td>36.99</td>\n",
       "      <td>37.57</td>\n",
       "      <td>36.85</td>\n",
       "      <td>22112</td>\n",
       "      <td>82129000</td>\n",
       "    </tr>\n",
       "    <tr>\n",
       "      <th>2001-09-04</th>\n",
       "      <td>6005191</td>\n",
       "      <td>37.01</td>\n",
       "      <td>37.46</td>\n",
       "      <td>38.08</td>\n",
       "      <td>36.88</td>\n",
       "      <td>37006</td>\n",
       "      <td>139204000</td>\n",
       "    </tr>\n",
       "    <tr>\n",
       "      <th>2001-09-05</th>\n",
       "      <td>6005191</td>\n",
       "      <td>37.61</td>\n",
       "      <td>37.44</td>\n",
       "      <td>37.92</td>\n",
       "      <td>37.21</td>\n",
       "      <td>26066</td>\n",
       "      <td>97796000</td>\n",
       "    </tr>\n",
       "    <tr>\n",
       "      <th>2001-09-06</th>\n",
       "      <td>6005191</td>\n",
       "      <td>37.35</td>\n",
       "      <td>36.70</td>\n",
       "      <td>37.47</td>\n",
       "      <td>36.51</td>\n",
       "      <td>28997</td>\n",
       "      <td>107078000</td>\n",
       "    </tr>\n",
       "    <tr>\n",
       "      <th>2001-09-07</th>\n",
       "      <td>6005191</td>\n",
       "      <td>36.50</td>\n",
       "      <td>35.68</td>\n",
       "      <td>36.95</td>\n",
       "      <td>35.65</td>\n",
       "      <td>31552</td>\n",
       "      <td>113868000</td>\n",
       "    </tr>\n",
       "    <tr>\n",
       "      <th>2001-09-10</th>\n",
       "      <td>6005191</td>\n",
       "      <td>35.40</td>\n",
       "      <td>36.70</td>\n",
       "      <td>36.85</td>\n",
       "      <td>35.01</td>\n",
       "      <td>18878</td>\n",
       "      <td>68406000</td>\n",
       "    </tr>\n",
       "    <tr>\n",
       "      <th>2001-09-11</th>\n",
       "      <td>6005191</td>\n",
       "      <td>36.80</td>\n",
       "      <td>36.29</td>\n",
       "      <td>36.95</td>\n",
       "      <td>36.20</td>\n",
       "      <td>11390</td>\n",
       "      <td>41579000</td>\n",
       "    </tr>\n",
       "    <tr>\n",
       "      <th>2001-09-12</th>\n",
       "      <td>6005191</td>\n",
       "      <td>35.33</td>\n",
       "      <td>35.98</td>\n",
       "      <td>36.20</td>\n",
       "      <td>35.30</td>\n",
       "      <td>25045</td>\n",
       "      <td>89421000</td>\n",
       "    </tr>\n",
       "    <tr>\n",
       "      <th>2001-09-13</th>\n",
       "      <td>6005191</td>\n",
       "      <td>36.01</td>\n",
       "      <td>35.89</td>\n",
       "      <td>36.30</td>\n",
       "      <td>35.70</td>\n",
       "      <td>10986</td>\n",
       "      <td>39512000</td>\n",
       "    </tr>\n",
       "    <tr>\n",
       "      <th>2001-09-14</th>\n",
       "      <td>6005191</td>\n",
       "      <td>36.01</td>\n",
       "      <td>36.30</td>\n",
       "      <td>36.50</td>\n",
       "      <td>35.80</td>\n",
       "      <td>7672</td>\n",
       "      <td>27740000</td>\n",
       "    </tr>\n",
       "    <tr>\n",
       "      <th>2001-09-17</th>\n",
       "      <td>6005191</td>\n",
       "      <td>36.08</td>\n",
       "      <td>35.84</td>\n",
       "      <td>36.29</td>\n",
       "      <td>35.50</td>\n",
       "      <td>8983</td>\n",
       "      <td>32183000</td>\n",
       "    </tr>\n",
       "    <tr>\n",
       "      <th>2001-09-18</th>\n",
       "      <td>6005191</td>\n",
       "      <td>35.88</td>\n",
       "      <td>36.25</td>\n",
       "      <td>36.55</td>\n",
       "      <td>35.85</td>\n",
       "      <td>10773</td>\n",
       "      <td>39006000</td>\n",
       "    </tr>\n",
       "    <tr>\n",
       "      <th>2001-09-19</th>\n",
       "      <td>6005191</td>\n",
       "      <td>36.30</td>\n",
       "      <td>36.92</td>\n",
       "      <td>36.92</td>\n",
       "      <td>36.06</td>\n",
       "      <td>8650</td>\n",
       "      <td>31597000</td>\n",
       "    </tr>\n",
       "    <tr>\n",
       "      <th>2001-09-20</th>\n",
       "      <td>6005191</td>\n",
       "      <td>36.90</td>\n",
       "      <td>36.61</td>\n",
       "      <td>37.05</td>\n",
       "      <td>36.50</td>\n",
       "      <td>11173</td>\n",
       "      <td>41189000</td>\n",
       "    </tr>\n",
       "    <tr>\n",
       "      <th>2001-09-21</th>\n",
       "      <td>6005191</td>\n",
       "      <td>36.28</td>\n",
       "      <td>36.06</td>\n",
       "      <td>36.60</td>\n",
       "      <td>36.00</td>\n",
       "      <td>7879</td>\n",
       "      <td>28638000</td>\n",
       "    </tr>\n",
       "    <tr>\n",
       "      <th>2001-09-24</th>\n",
       "      <td>6005191</td>\n",
       "      <td>36.06</td>\n",
       "      <td>36.05</td>\n",
       "      <td>36.39</td>\n",
       "      <td>36.00</td>\n",
       "      <td>4068</td>\n",
       "      <td>14703000</td>\n",
       "    </tr>\n",
       "    <tr>\n",
       "      <th>2001-09-25</th>\n",
       "      <td>6005191</td>\n",
       "      <td>36.28</td>\n",
       "      <td>36.23</td>\n",
       "      <td>36.54</td>\n",
       "      <td>36.05</td>\n",
       "      <td>3488</td>\n",
       "      <td>12639000</td>\n",
       "    </tr>\n",
       "    <tr>\n",
       "      <th>2001-09-26</th>\n",
       "      <td>6005191</td>\n",
       "      <td>36.11</td>\n",
       "      <td>36.08</td>\n",
       "      <td>36.48</td>\n",
       "      <td>36.00</td>\n",
       "      <td>4956</td>\n",
       "      <td>17892000</td>\n",
       "    </tr>\n",
       "    <tr>\n",
       "      <th>2001-09-27</th>\n",
       "      <td>6005191</td>\n",
       "      <td>36.08</td>\n",
       "      <td>36.70</td>\n",
       "      <td>36.98</td>\n",
       "      <td>36.00</td>\n",
       "      <td>8778</td>\n",
       "      <td>32085000</td>\n",
       "    </tr>\n",
       "    <tr>\n",
       "      <th>2001-09-28</th>\n",
       "      <td>6005191</td>\n",
       "      <td>36.90</td>\n",
       "      <td>37.09</td>\n",
       "      <td>37.20</td>\n",
       "      <td>36.50</td>\n",
       "      <td>17088</td>\n",
       "      <td>63169000</td>\n",
       "    </tr>\n",
       "    <tr>\n",
       "      <th>2001-10-08</th>\n",
       "      <td>6005191</td>\n",
       "      <td>37.00</td>\n",
       "      <td>36.58</td>\n",
       "      <td>37.18</td>\n",
       "      <td>36.25</td>\n",
       "      <td>6552</td>\n",
       "      <td>24091000</td>\n",
       "    </tr>\n",
       "  </tbody>\n",
       "</table>\n",
       "</div>"
      ],
      "text/plain": [
       "            STOCK_CODE   open  close  maximum  minimum  volume    TURNOVER\n",
       "day                                                                       \n",
       "2001-08-27     6005191  34.51  35.55    37.78    32.85  406318  1410347008\n",
       "2001-08-28     6005191  34.99  36.86    37.00    34.61  129647   463463008\n",
       "2001-08-29     6005191  36.98  36.38    37.00    36.10   53252   194689000\n",
       "2001-08-30     6005191  36.28  37.10    37.51    36.00   48013   177558000\n",
       "2001-08-31     6005191  37.15  37.01    37.62    36.80   23231    86231000\n",
       "2001-09-03     6005191  37.20  36.99    37.57    36.85   22112    82129000\n",
       "2001-09-04     6005191  37.01  37.46    38.08    36.88   37006   139204000\n",
       "2001-09-05     6005191  37.61  37.44    37.92    37.21   26066    97796000\n",
       "2001-09-06     6005191  37.35  36.70    37.47    36.51   28997   107078000\n",
       "2001-09-07     6005191  36.50  35.68    36.95    35.65   31552   113868000\n",
       "2001-09-10     6005191  35.40  36.70    36.85    35.01   18878    68406000\n",
       "2001-09-11     6005191  36.80  36.29    36.95    36.20   11390    41579000\n",
       "2001-09-12     6005191  35.33  35.98    36.20    35.30   25045    89421000\n",
       "2001-09-13     6005191  36.01  35.89    36.30    35.70   10986    39512000\n",
       "2001-09-14     6005191  36.01  36.30    36.50    35.80    7672    27740000\n",
       "2001-09-17     6005191  36.08  35.84    36.29    35.50    8983    32183000\n",
       "2001-09-18     6005191  35.88  36.25    36.55    35.85   10773    39006000\n",
       "2001-09-19     6005191  36.30  36.92    36.92    36.06    8650    31597000\n",
       "2001-09-20     6005191  36.90  36.61    37.05    36.50   11173    41189000\n",
       "2001-09-21     6005191  36.28  36.06    36.60    36.00    7879    28638000\n",
       "2001-09-24     6005191  36.06  36.05    36.39    36.00    4068    14703000\n",
       "2001-09-25     6005191  36.28  36.23    36.54    36.05    3488    12639000\n",
       "2001-09-26     6005191  36.11  36.08    36.48    36.00    4956    17892000\n",
       "2001-09-27     6005191  36.08  36.70    36.98    36.00    8778    32085000\n",
       "2001-09-28     6005191  36.90  37.09    37.20    36.50   17088    63169000\n",
       "2001-10-08     6005191  37.00  36.58    37.18    36.25    6552    24091000"
      ]
     },
     "execution_count": 64,
     "metadata": {},
     "output_type": "execute_result"
    }
   ],
   "source": [
    "贵州茅台.loc['2001-08-27':'2001-10-08']"
   ]
  },
  {
   "cell_type": "code",
   "execution_count": 65,
   "metadata": {},
   "outputs": [
    {
     "data": {
      "text/html": [
       "<div>\n",
       "<style scoped>\n",
       "    .dataframe tbody tr th:only-of-type {\n",
       "        vertical-align: middle;\n",
       "    }\n",
       "\n",
       "    .dataframe tbody tr th {\n",
       "        vertical-align: top;\n",
       "    }\n",
       "\n",
       "    .dataframe thead th {\n",
       "        text-align: right;\n",
       "    }\n",
       "</style>\n",
       "<table border=\"1\" class=\"dataframe\">\n",
       "  <thead>\n",
       "    <tr style=\"text-align: right;\">\n",
       "      <th></th>\n",
       "      <th>STOCK_CODE</th>\n",
       "      <th>open</th>\n",
       "      <th>close</th>\n",
       "      <th>maximum</th>\n",
       "      <th>minimum</th>\n",
       "      <th>volume</th>\n",
       "      <th>TURNOVER</th>\n",
       "    </tr>\n",
       "    <tr>\n",
       "      <th>day</th>\n",
       "      <th></th>\n",
       "      <th></th>\n",
       "      <th></th>\n",
       "      <th></th>\n",
       "      <th></th>\n",
       "      <th></th>\n",
       "      <th></th>\n",
       "    </tr>\n",
       "  </thead>\n",
       "  <tbody>\n",
       "    <tr>\n",
       "      <th>2001-10-17</th>\n",
       "      <td>6005191</td>\n",
       "      <td>34.79</td>\n",
       "      <td>34.20</td>\n",
       "      <td>34.81</td>\n",
       "      <td>33.90</td>\n",
       "      <td>12507</td>\n",
       "      <td>42766000</td>\n",
       "    </tr>\n",
       "    <tr>\n",
       "      <th>2001-10-18</th>\n",
       "      <td>6005191</td>\n",
       "      <td>34.20</td>\n",
       "      <td>34.04</td>\n",
       "      <td>34.66</td>\n",
       "      <td>33.91</td>\n",
       "      <td>4983</td>\n",
       "      <td>16999000</td>\n",
       "    </tr>\n",
       "    <tr>\n",
       "      <th>2001-10-19</th>\n",
       "      <td>6005191</td>\n",
       "      <td>34.00</td>\n",
       "      <td>33.50</td>\n",
       "      <td>34.15</td>\n",
       "      <td>33.01</td>\n",
       "      <td>15687</td>\n",
       "      <td>52422000</td>\n",
       "    </tr>\n",
       "    <tr>\n",
       "      <th>2001-10-22</th>\n",
       "      <td>6005191</td>\n",
       "      <td>33.30</td>\n",
       "      <td>32.79</td>\n",
       "      <td>33.70</td>\n",
       "      <td>32.70</td>\n",
       "      <td>9760</td>\n",
       "      <td>32268000</td>\n",
       "    </tr>\n",
       "    <tr>\n",
       "      <th>2001-11-08</th>\n",
       "      <td>6005191</td>\n",
       "      <td>33.35</td>\n",
       "      <td>33.70</td>\n",
       "      <td>33.89</td>\n",
       "      <td>32.98</td>\n",
       "      <td>7402</td>\n",
       "      <td>24682000</td>\n",
       "    </tr>\n",
       "    <tr>\n",
       "      <th>...</th>\n",
       "      <td>...</td>\n",
       "      <td>...</td>\n",
       "      <td>...</td>\n",
       "      <td>...</td>\n",
       "      <td>...</td>\n",
       "      <td>...</td>\n",
       "      <td>...</td>\n",
       "    </tr>\n",
       "    <tr>\n",
       "      <th>2004-09-21</th>\n",
       "      <td>6005191</td>\n",
       "      <td>32.09</td>\n",
       "      <td>32.30</td>\n",
       "      <td>32.98</td>\n",
       "      <td>32.09</td>\n",
       "      <td>8374</td>\n",
       "      <td>27222818</td>\n",
       "    </tr>\n",
       "    <tr>\n",
       "      <th>2004-09-22</th>\n",
       "      <td>6005191</td>\n",
       "      <td>32.03</td>\n",
       "      <td>32.16</td>\n",
       "      <td>32.49</td>\n",
       "      <td>32.03</td>\n",
       "      <td>4348</td>\n",
       "      <td>13965168</td>\n",
       "    </tr>\n",
       "    <tr>\n",
       "      <th>2004-09-23</th>\n",
       "      <td>6005191</td>\n",
       "      <td>32.11</td>\n",
       "      <td>33.42</td>\n",
       "      <td>33.52</td>\n",
       "      <td>32.11</td>\n",
       "      <td>17667</td>\n",
       "      <td>58219692</td>\n",
       "    </tr>\n",
       "    <tr>\n",
       "      <th>2004-09-24</th>\n",
       "      <td>6005191</td>\n",
       "      <td>33.60</td>\n",
       "      <td>34.49</td>\n",
       "      <td>35.89</td>\n",
       "      <td>33.60</td>\n",
       "      <td>30981</td>\n",
       "      <td>108295826</td>\n",
       "    </tr>\n",
       "    <tr>\n",
       "      <th>2004-09-27</th>\n",
       "      <td>6005191</td>\n",
       "      <td>34.95</td>\n",
       "      <td>34.93</td>\n",
       "      <td>35.98</td>\n",
       "      <td>34.50</td>\n",
       "      <td>6067</td>\n",
       "      <td>21339456</td>\n",
       "    </tr>\n",
       "  </tbody>\n",
       "</table>\n",
       "<p>498 rows × 7 columns</p>\n",
       "</div>"
      ],
      "text/plain": [
       "            STOCK_CODE   open  close  maximum  minimum  volume   TURNOVER\n",
       "day                                                                      \n",
       "2001-10-17     6005191  34.79  34.20    34.81    33.90   12507   42766000\n",
       "2001-10-18     6005191  34.20  34.04    34.66    33.91    4983   16999000\n",
       "2001-10-19     6005191  34.00  33.50    34.15    33.01   15687   52422000\n",
       "2001-10-22     6005191  33.30  32.79    33.70    32.70    9760   32268000\n",
       "2001-11-08     6005191  33.35  33.70    33.89    32.98    7402   24682000\n",
       "...                ...    ...    ...      ...      ...     ...        ...\n",
       "2004-09-21     6005191  32.09  32.30    32.98    32.09    8374   27222818\n",
       "2004-09-22     6005191  32.03  32.16    32.49    32.03    4348   13965168\n",
       "2004-09-23     6005191  32.11  33.42    33.52    32.11   17667   58219692\n",
       "2004-09-24     6005191  33.60  34.49    35.89    33.60   30981  108295826\n",
       "2004-09-27     6005191  34.95  34.93    35.98    34.50    6067   21339456\n",
       "\n",
       "[498 rows x 7 columns]"
      ]
     },
     "execution_count": 65,
     "metadata": {},
     "output_type": "execute_result"
    }
   ],
   "source": [
    "条件1 = 贵州茅台['open'] < 35\n",
    "条件2 = 贵州茅台['close'] < 35\n",
    "布尔列表 = 条件1 & 条件2\n",
    "贵州茅台.loc[布尔列表]"
   ]
  },
  {
   "cell_type": "code",
   "execution_count": 66,
   "metadata": {},
   "outputs": [],
   "source": [
    "# 使用函数作为索引\n",
    "def condition(pd):\n",
    "    条件1 = pd['open'] < 35\n",
    "    条件2 = pd['close'] < 35\n",
    "    布尔列表 = 条件1 &条件2\n",
    "    return 布尔列表"
   ]
  },
  {
   "cell_type": "code",
   "execution_count": 67,
   "metadata": {},
   "outputs": [
    {
     "data": {
      "text/html": [
       "<div>\n",
       "<style scoped>\n",
       "    .dataframe tbody tr th:only-of-type {\n",
       "        vertical-align: middle;\n",
       "    }\n",
       "\n",
       "    .dataframe tbody tr th {\n",
       "        vertical-align: top;\n",
       "    }\n",
       "\n",
       "    .dataframe thead th {\n",
       "        text-align: right;\n",
       "    }\n",
       "</style>\n",
       "<table border=\"1\" class=\"dataframe\">\n",
       "  <thead>\n",
       "    <tr style=\"text-align: right;\">\n",
       "      <th></th>\n",
       "      <th>STOCK_CODE</th>\n",
       "      <th>open</th>\n",
       "      <th>close</th>\n",
       "      <th>maximum</th>\n",
       "      <th>minimum</th>\n",
       "      <th>volume</th>\n",
       "      <th>TURNOVER</th>\n",
       "    </tr>\n",
       "    <tr>\n",
       "      <th>day</th>\n",
       "      <th></th>\n",
       "      <th></th>\n",
       "      <th></th>\n",
       "      <th></th>\n",
       "      <th></th>\n",
       "      <th></th>\n",
       "      <th></th>\n",
       "    </tr>\n",
       "  </thead>\n",
       "  <tbody>\n",
       "    <tr>\n",
       "      <th>2001-10-17</th>\n",
       "      <td>6005191</td>\n",
       "      <td>34.79</td>\n",
       "      <td>34.20</td>\n",
       "      <td>34.81</td>\n",
       "      <td>33.90</td>\n",
       "      <td>12507</td>\n",
       "      <td>42766000</td>\n",
       "    </tr>\n",
       "    <tr>\n",
       "      <th>2001-10-18</th>\n",
       "      <td>6005191</td>\n",
       "      <td>34.20</td>\n",
       "      <td>34.04</td>\n",
       "      <td>34.66</td>\n",
       "      <td>33.91</td>\n",
       "      <td>4983</td>\n",
       "      <td>16999000</td>\n",
       "    </tr>\n",
       "    <tr>\n",
       "      <th>2001-10-19</th>\n",
       "      <td>6005191</td>\n",
       "      <td>34.00</td>\n",
       "      <td>33.50</td>\n",
       "      <td>34.15</td>\n",
       "      <td>33.01</td>\n",
       "      <td>15687</td>\n",
       "      <td>52422000</td>\n",
       "    </tr>\n",
       "    <tr>\n",
       "      <th>2001-10-22</th>\n",
       "      <td>6005191</td>\n",
       "      <td>33.30</td>\n",
       "      <td>32.79</td>\n",
       "      <td>33.70</td>\n",
       "      <td>32.70</td>\n",
       "      <td>9760</td>\n",
       "      <td>32268000</td>\n",
       "    </tr>\n",
       "    <tr>\n",
       "      <th>2001-11-08</th>\n",
       "      <td>6005191</td>\n",
       "      <td>33.35</td>\n",
       "      <td>33.70</td>\n",
       "      <td>33.89</td>\n",
       "      <td>32.98</td>\n",
       "      <td>7402</td>\n",
       "      <td>24682000</td>\n",
       "    </tr>\n",
       "    <tr>\n",
       "      <th>...</th>\n",
       "      <td>...</td>\n",
       "      <td>...</td>\n",
       "      <td>...</td>\n",
       "      <td>...</td>\n",
       "      <td>...</td>\n",
       "      <td>...</td>\n",
       "      <td>...</td>\n",
       "    </tr>\n",
       "    <tr>\n",
       "      <th>2004-09-21</th>\n",
       "      <td>6005191</td>\n",
       "      <td>32.09</td>\n",
       "      <td>32.30</td>\n",
       "      <td>32.98</td>\n",
       "      <td>32.09</td>\n",
       "      <td>8374</td>\n",
       "      <td>27222818</td>\n",
       "    </tr>\n",
       "    <tr>\n",
       "      <th>2004-09-22</th>\n",
       "      <td>6005191</td>\n",
       "      <td>32.03</td>\n",
       "      <td>32.16</td>\n",
       "      <td>32.49</td>\n",
       "      <td>32.03</td>\n",
       "      <td>4348</td>\n",
       "      <td>13965168</td>\n",
       "    </tr>\n",
       "    <tr>\n",
       "      <th>2004-09-23</th>\n",
       "      <td>6005191</td>\n",
       "      <td>32.11</td>\n",
       "      <td>33.42</td>\n",
       "      <td>33.52</td>\n",
       "      <td>32.11</td>\n",
       "      <td>17667</td>\n",
       "      <td>58219692</td>\n",
       "    </tr>\n",
       "    <tr>\n",
       "      <th>2004-09-24</th>\n",
       "      <td>6005191</td>\n",
       "      <td>33.60</td>\n",
       "      <td>34.49</td>\n",
       "      <td>35.89</td>\n",
       "      <td>33.60</td>\n",
       "      <td>30981</td>\n",
       "      <td>108295826</td>\n",
       "    </tr>\n",
       "    <tr>\n",
       "      <th>2004-09-27</th>\n",
       "      <td>6005191</td>\n",
       "      <td>34.95</td>\n",
       "      <td>34.93</td>\n",
       "      <td>35.98</td>\n",
       "      <td>34.50</td>\n",
       "      <td>6067</td>\n",
       "      <td>21339456</td>\n",
       "    </tr>\n",
       "  </tbody>\n",
       "</table>\n",
       "<p>498 rows × 7 columns</p>\n",
       "</div>"
      ],
      "text/plain": [
       "            STOCK_CODE   open  close  maximum  minimum  volume   TURNOVER\n",
       "day                                                                      \n",
       "2001-10-17     6005191  34.79  34.20    34.81    33.90   12507   42766000\n",
       "2001-10-18     6005191  34.20  34.04    34.66    33.91    4983   16999000\n",
       "2001-10-19     6005191  34.00  33.50    34.15    33.01   15687   52422000\n",
       "2001-10-22     6005191  33.30  32.79    33.70    32.70    9760   32268000\n",
       "2001-11-08     6005191  33.35  33.70    33.89    32.98    7402   24682000\n",
       "...                ...    ...    ...      ...      ...     ...        ...\n",
       "2004-09-21     6005191  32.09  32.30    32.98    32.09    8374   27222818\n",
       "2004-09-22     6005191  32.03  32.16    32.49    32.03    4348   13965168\n",
       "2004-09-23     6005191  32.11  33.42    33.52    32.11   17667   58219692\n",
       "2004-09-24     6005191  33.60  34.49    35.89    33.60   30981  108295826\n",
       "2004-09-27     6005191  34.95  34.93    35.98    34.50    6067   21339456\n",
       "\n",
       "[498 rows x 7 columns]"
      ]
     },
     "execution_count": 67,
     "metadata": {},
     "output_type": "execute_result"
    }
   ],
   "source": [
    "贵州茅台.loc[condition]"
   ]
  },
  {
   "cell_type": "code",
   "execution_count": 68,
   "metadata": {},
   "outputs": [
    {
     "data": {
      "text/plain": [
       "(            STOCK_CODE   open  close  maximum  minimum  volume   TURNOVER\n",
       " day                                                                      \n",
       " 2001-10-17     6005191  34.79  34.20    34.81    33.90   12507   42766000\n",
       " 2001-10-18     6005191  34.20  34.04    34.66    33.91    4983   16999000\n",
       " 2001-10-19     6005191  34.00  33.50    34.15    33.01   15687   52422000\n",
       " 2001-10-22     6005191  33.30  32.79    33.70    32.70    9760   32268000\n",
       " 2001-11-08     6005191  33.35  33.70    33.89    32.98    7402   24682000\n",
       " ...                ...    ...    ...      ...      ...     ...        ...\n",
       " 2004-09-21     6005191  32.09  32.30    32.98    32.09    8374   27222818\n",
       " 2004-09-22     6005191  32.03  32.16    32.49    32.03    4348   13965168\n",
       " 2004-09-23     6005191  32.11  33.42    33.52    32.11   17667   58219692\n",
       " 2004-09-24     6005191  33.60  34.49    35.89    33.60   30981  108295826\n",
       " 2004-09-27     6005191  34.95  34.93    35.98    34.50    6067   21339456\n",
       " \n",
       " [498 rows x 7 columns],\n",
       " ['open', 'close'])"
      ]
     },
     "execution_count": 68,
     "metadata": {},
     "output_type": "execute_result"
    }
   ],
   "source": [
    "贵州茅台.query('open<35 and close<35'),['open','close']"
   ]
  },
  {
   "cell_type": "code",
   "execution_count": 69,
   "metadata": {},
   "outputs": [
    {
     "data": {
      "text/html": [
       "<div>\n",
       "<style scoped>\n",
       "    .dataframe tbody tr th:only-of-type {\n",
       "        vertical-align: middle;\n",
       "    }\n",
       "\n",
       "    .dataframe tbody tr th {\n",
       "        vertical-align: top;\n",
       "    }\n",
       "\n",
       "    .dataframe thead th {\n",
       "        text-align: right;\n",
       "    }\n",
       "</style>\n",
       "<table border=\"1\" class=\"dataframe\">\n",
       "  <thead>\n",
       "    <tr style=\"text-align: right;\">\n",
       "      <th></th>\n",
       "      <th>STOCK_CODE</th>\n",
       "      <th>open</th>\n",
       "      <th>close</th>\n",
       "      <th>maximum</th>\n",
       "      <th>minimum</th>\n",
       "      <th>volume</th>\n",
       "      <th>TURNOVER</th>\n",
       "    </tr>\n",
       "    <tr>\n",
       "      <th>day</th>\n",
       "      <th></th>\n",
       "      <th></th>\n",
       "      <th></th>\n",
       "      <th></th>\n",
       "      <th></th>\n",
       "      <th></th>\n",
       "      <th></th>\n",
       "    </tr>\n",
       "  </thead>\n",
       "  <tbody>\n",
       "    <tr>\n",
       "      <th>2015-10-19</th>\n",
       "      <td>6005191</td>\n",
       "      <td>204.94</td>\n",
       "      <td>202.72</td>\n",
       "      <td>204.94</td>\n",
       "      <td>201.90</td>\n",
       "      <td>26121</td>\n",
       "      <td>531101872</td>\n",
       "    </tr>\n",
       "    <tr>\n",
       "      <th>2010-04-14</th>\n",
       "      <td>6005191</td>\n",
       "      <td>150.87</td>\n",
       "      <td>150.52</td>\n",
       "      <td>150.87</td>\n",
       "      <td>148.26</td>\n",
       "      <td>46368</td>\n",
       "      <td>693802752</td>\n",
       "    </tr>\n",
       "    <tr>\n",
       "      <th>2017-01-23</th>\n",
       "      <td>6005191</td>\n",
       "      <td>356.88</td>\n",
       "      <td>351.22</td>\n",
       "      <td>359.80</td>\n",
       "      <td>349.46</td>\n",
       "      <td>32581</td>\n",
       "      <td>1151869296</td>\n",
       "    </tr>\n",
       "    <tr>\n",
       "      <th>2011-01-31</th>\n",
       "      <td>6005191</td>\n",
       "      <td>173.50</td>\n",
       "      <td>177.99</td>\n",
       "      <td>180.92</td>\n",
       "      <td>173.01</td>\n",
       "      <td>32442</td>\n",
       "      <td>577621808</td>\n",
       "    </tr>\n",
       "    <tr>\n",
       "      <th>2003-02-26</th>\n",
       "      <td>6005191</td>\n",
       "      <td>26.95</td>\n",
       "      <td>26.70</td>\n",
       "      <td>27.05</td>\n",
       "      <td>26.68</td>\n",
       "      <td>1082</td>\n",
       "      <td>2904654</td>\n",
       "    </tr>\n",
       "    <tr>\n",
       "      <th>2012-12-24</th>\n",
       "      <td>6005191</td>\n",
       "      <td>212.01</td>\n",
       "      <td>204.58</td>\n",
       "      <td>212.01</td>\n",
       "      <td>200.00</td>\n",
       "      <td>100051</td>\n",
       "      <td>2054317648</td>\n",
       "    </tr>\n",
       "    <tr>\n",
       "      <th>2003-08-11</th>\n",
       "      <td>6005191</td>\n",
       "      <td>22.61</td>\n",
       "      <td>22.73</td>\n",
       "      <td>22.78</td>\n",
       "      <td>22.61</td>\n",
       "      <td>996</td>\n",
       "      <td>2260732</td>\n",
       "    </tr>\n",
       "    <tr>\n",
       "      <th>2004-05-27</th>\n",
       "      <td>6005191</td>\n",
       "      <td>36.60</td>\n",
       "      <td>36.50</td>\n",
       "      <td>36.98</td>\n",
       "      <td>36.00</td>\n",
       "      <td>3759</td>\n",
       "      <td>13778597</td>\n",
       "    </tr>\n",
       "    <tr>\n",
       "      <th>2003-03-14</th>\n",
       "      <td>6005191</td>\n",
       "      <td>26.88</td>\n",
       "      <td>26.82</td>\n",
       "      <td>26.94</td>\n",
       "      <td>26.72</td>\n",
       "      <td>2756</td>\n",
       "      <td>7388968</td>\n",
       "    </tr>\n",
       "    <tr>\n",
       "      <th>2003-07-28</th>\n",
       "      <td>6005191</td>\n",
       "      <td>23.35</td>\n",
       "      <td>23.23</td>\n",
       "      <td>23.40</td>\n",
       "      <td>23.20</td>\n",
       "      <td>1885</td>\n",
       "      <td>4383607</td>\n",
       "    </tr>\n",
       "  </tbody>\n",
       "</table>\n",
       "</div>"
      ],
      "text/plain": [
       "            STOCK_CODE    open   close  maximum  minimum  volume    TURNOVER\n",
       "day                                                                         \n",
       "2015-10-19     6005191  204.94  202.72   204.94   201.90   26121   531101872\n",
       "2010-04-14     6005191  150.87  150.52   150.87   148.26   46368   693802752\n",
       "2017-01-23     6005191  356.88  351.22   359.80   349.46   32581  1151869296\n",
       "2011-01-31     6005191  173.50  177.99   180.92   173.01   32442   577621808\n",
       "2003-02-26     6005191   26.95   26.70    27.05    26.68    1082     2904654\n",
       "2012-12-24     6005191  212.01  204.58   212.01   200.00  100051  2054317648\n",
       "2003-08-11     6005191   22.61   22.73    22.78    22.61     996     2260732\n",
       "2004-05-27     6005191   36.60   36.50    36.98    36.00    3759    13778597\n",
       "2003-03-14     6005191   26.88   26.82    26.94    26.72    2756     7388968\n",
       "2003-07-28     6005191   23.35   23.23    23.40    23.20    1885     4383607"
      ]
     },
     "execution_count": 69,
     "metadata": {},
     "output_type": "execute_result"
    }
   ],
   "source": [
    "贵州茅台.sample(10)"
   ]
  },
  {
   "cell_type": "code",
   "execution_count": 70,
   "metadata": {},
   "outputs": [
    {
     "name": "stdout",
     "output_type": "stream",
     "text": [
      "<class 'pandas.core.frame.DataFrame'>\n",
      "Index: 4094 entries, 2001-08-27 to 2018-11-02\n",
      "Data columns (total 7 columns):\n",
      " #   Column      Non-Null Count  Dtype  \n",
      "---  ------      --------------  -----  \n",
      " 0   STOCK_CODE  4094 non-null   int64  \n",
      " 1   open        4094 non-null   float64\n",
      " 2   close       4094 non-null   float64\n",
      " 3   maximum     4094 non-null   float64\n",
      " 4   minimum     4094 non-null   float64\n",
      " 5   volume      4094 non-null   int64  \n",
      " 6   TURNOVER    4094 non-null   int64  \n",
      "dtypes: float64(4), int64(3)\n",
      "memory usage: 384.9+ KB\n"
     ]
    }
   ],
   "source": [
    "贵州茅台.info()"
   ]
  },
  {
   "cell_type": "code",
   "execution_count": 71,
   "metadata": {},
   "outputs": [
    {
     "data": {
      "text/plain": [
       "count    4094.000000\n",
       "mean      182.161910\n",
       "std       165.857882\n",
       "min        20.900000\n",
       "25%        47.405000\n",
       "50%       159.930000\n",
       "75%       208.500000\n",
       "max       800.000000\n",
       "Name: open, dtype: float64"
      ]
     },
     "execution_count": 71,
     "metadata": {},
     "output_type": "execute_result"
    }
   ],
   "source": [
    "贵州茅台['open'].describe()"
   ]
  },
  {
   "cell_type": "code",
   "execution_count": 72,
   "metadata": {},
   "outputs": [],
   "source": [
    "result1 = 贵州茅台['open'].unique()"
   ]
  },
  {
   "cell_type": "code",
   "execution_count": 73,
   "metadata": {},
   "outputs": [],
   "source": [
    "result2 = 贵州茅台['open'].nunique()"
   ]
  },
  {
   "cell_type": "code",
   "execution_count": 74,
   "metadata": {},
   "outputs": [],
   "source": [
    "result3 = 贵州茅台['open'].value_counts()"
   ]
  },
  {
   "cell_type": "code",
   "execution_count": 75,
   "metadata": {},
   "outputs": [
    {
     "data": {
      "text/plain": [
       "<bound method GroupBy.sum of <pandas.core.groupby.generic.SeriesGroupBy object at 0x0000023A700823A0>>"
      ]
     },
     "execution_count": 75,
     "metadata": {},
     "output_type": "execute_result"
    }
   ],
   "source": [
    "df = pd.DataFrame({\n",
    "    \"name\" : [\"A\",\"B\",\"C\",\"B\",\"C\",\"A\",\"C\"],\n",
    "    \"value\" : [1,3,7,2,4,3,1]\n",
    "})\n",
    "df.groupby(\"name\")[\"value\"].sum"
   ]
  },
  {
   "cell_type": "code",
   "execution_count": null,
   "metadata": {},
   "outputs": [],
   "source": []
  }
 ],
 "metadata": {
  "kernelspec": {
   "display_name": "Python 3",
   "language": "python",
   "name": "python3"
  },
  "language_info": {
   "codemirror_mode": {
    "name": "ipython",
    "version": 3
   },
   "file_extension": ".py",
   "mimetype": "text/x-python",
   "name": "python",
   "nbconvert_exporter": "python",
   "pygments_lexer": "ipython3",
   "version": "3.8.10"
  },
  "orig_nbformat": 4
 },
 "nbformat": 4,
 "nbformat_minor": 2
}
